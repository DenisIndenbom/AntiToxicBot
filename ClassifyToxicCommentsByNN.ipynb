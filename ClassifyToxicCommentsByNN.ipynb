{
  "nbformat": 4,
  "nbformat_minor": 0,
  "metadata": {
    "accelerator": "GPU",
    "colab": {
      "name": "ClassifyToxicCommentsByNN.ipynb",
      "provenance": [],
      "collapsed_sections": []
    },
    "kernelspec": {
      "display_name": "Python 3",
      "name": "python3"
    },
    "language_info": {
      "name": "python"
    },
    "gpuClass": "standard"
  },
  "cells": [
    {
      "cell_type": "code",
      "metadata": {
        "id": "wrOOYG3PGV5a"
      },
      "source": [
        "![ -e navec_hudlit_v1_12B_500K_300d_100q.tar ] || wget https://storage.yandexcloud.net/natasha-navec/packs/navec_hudlit_v1_12B_500K_300d_100q.tar "
      ],
      "execution_count": 1,
      "outputs": []
    },
    {
      "cell_type": "code",
      "metadata": {
        "colab": {
          "base_uri": "https://localhost:8080/"
        },
        "id": "DqhBSgfsFWUO",
        "outputId": "82760094-521f-4f00-9568-2bba0a1c1eaa"
      },
      "source": [
        "!pip install navec tqdm"
      ],
      "execution_count": 2,
      "outputs": [
        {
          "output_type": "stream",
          "name": "stdout",
          "text": [
            "Looking in indexes: https://pypi.org/simple, https://us-python.pkg.dev/colab-wheels/public/simple/\n",
            "Requirement already satisfied: navec in /usr/local/lib/python3.7/dist-packages (0.10.0)\n",
            "Requirement already satisfied: tqdm in /usr/local/lib/python3.7/dist-packages (4.64.0)\n",
            "Requirement already satisfied: numpy in /usr/local/lib/python3.7/dist-packages (from navec) (1.21.6)\n"
          ]
        }
      ]
    },
    {
      "cell_type": "code",
      "metadata": {
        "colab": {
          "base_uri": "https://localhost:8080/"
        },
        "id": "PMO0BpZ4Gow4",
        "outputId": "989f5294-4749-428c-e91a-7940c112aa5d"
      },
      "source": [
        "!pip install slovnet"
      ],
      "execution_count": 3,
      "outputs": [
        {
          "output_type": "stream",
          "name": "stdout",
          "text": [
            "Looking in indexes: https://pypi.org/simple, https://us-python.pkg.dev/colab-wheels/public/simple/\n",
            "Requirement already satisfied: slovnet in /usr/local/lib/python3.7/dist-packages (0.5.0)\n",
            "Requirement already satisfied: razdel in /usr/local/lib/python3.7/dist-packages (from slovnet) (0.5.0)\n",
            "Requirement already satisfied: navec in /usr/local/lib/python3.7/dist-packages (from slovnet) (0.10.0)\n",
            "Requirement already satisfied: numpy in /usr/local/lib/python3.7/dist-packages (from slovnet) (1.21.6)\n"
          ]
        }
      ]
    },
    {
      "cell_type": "code",
      "metadata": {
        "id": "MncqkwmQE2rC"
      },
      "source": [
        "import pandas as pd\n",
        "\n",
        "import numpy as np\n",
        "import sklearn\n",
        "\n",
        "from tqdm import tqdm"
      ],
      "execution_count": 4,
      "outputs": []
    },
    {
      "cell_type": "code",
      "metadata": {
        "id": "EdAgoBy_IOys"
      },
      "source": [
        "from nltk.tokenize import WordPunctTokenizer\n",
        "from gensim.models import Word2Vec\n",
        "\n",
        "from navec import Navec"
      ],
      "execution_count": 5,
      "outputs": []
    },
    {
      "cell_type": "code",
      "metadata": {
        "id": "JDY0Ct8aLrmS"
      },
      "source": [
        "import torch\n",
        "from slovnet.model.emb import NavecEmbedding"
      ],
      "execution_count": 6,
      "outputs": []
    },
    {
      "cell_type": "code",
      "source": [
        "import re"
      ],
      "metadata": {
        "id": "jiVXhJqaAx_o"
      },
      "execution_count": 7,
      "outputs": []
    },
    {
      "cell_type": "code",
      "metadata": {
        "id": "nC7v1e_8Skpc"
      },
      "source": [
        "import matplotlib.pyplot as plt\n",
        "%matplotlib inline"
      ],
      "execution_count": 8,
      "outputs": []
    },
    {
      "cell_type": "code",
      "metadata": {
        "id": "9OPrUr1NUARX"
      },
      "source": [
        "def clear_text(text: str):\n",
        "  bad_symbols = [\",\", \"!\", \":\", \"/\", \".\", \"|\", \"(\", \")\", \"-\", \"_\", \"?\",\";\"]\n",
        "  clear_text = ''\n",
        "\n",
        "  for symbol in text:\n",
        "    if symbol not in bad_symbols:\n",
        "      clear_text += symbol\n",
        "  return clear_text"
      ],
      "execution_count": 9,
      "outputs": []
    },
    {
      "cell_type": "code",
      "metadata": {
        "id": "Kn2OWKzLc-dY"
      },
      "source": [
        "def add_zero_indexes(ind, max_text_ind_len, pad_id):\n",
        "    if len(ind) < max_text_ind_len:\n",
        "        z_arr = np.full(max_text_ind_len, pad_id, np.int64)\n",
        "        z_arr[:len(ind)] = ind\n",
        "        ind = z_arr\n",
        "    return ind"
      ],
      "execution_count": 10,
      "outputs": []
    },
    {
      "cell_type": "code",
      "metadata": {
        "id": "0CoysxolEzNa"
      },
      "source": [
        "def bin2classes(x:int):\n",
        "    return np.array([0,1]) if x == 1 else np.array([1,0])\n",
        "def classes2bin(x):\n",
        "    return 0 if x == [1,0] else 1"
      ],
      "execution_count": 11,
      "outputs": []
    },
    {
      "cell_type": "code",
      "metadata": {
        "id": "tg-9zKyXzCmd"
      },
      "source": [
        "def get_text_indexes(words: str, word_model: Navec):\n",
        "    indexes = []\n",
        "\n",
        "    for word in words:\n",
        "        try:\n",
        "          indexes.append(word_model.vocab[word])\n",
        "        except KeyError:\n",
        "          indexes.append(word_model.vocab.unk_id)\n",
        "\n",
        "    return np.array(indexes, dtype=np.int64)"
      ],
      "execution_count": 12,
      "outputs": []
    },
    {
      "cell_type": "code",
      "metadata": {
        "id": "S1I-xkl3GAwA"
      },
      "source": [
        "model = Navec.load(\"navec_hudlit_v1_12B_500K_300d_100q.tar\")"
      ],
      "execution_count": 13,
      "outputs": []
    },
    {
      "cell_type": "code",
      "source": [
        "data_list = []\n",
        "with open(\"dataset.txt\") as file:\n",
        "    for line in file:\n",
        "        labels = line.split()[0]\n",
        "        text = line[len(labels)+1:].strip()\n",
        "        text = re.sub('[^a-zа-я]', ' ', text.lower())\n",
        "        labels = labels.split(\",\")\n",
        "        mask = [0 if \"__label__NORMAL\" in labels else 1]\n",
        "        data_list.append((text, *mask))"
      ],
      "metadata": {
        "id": "BR3wEtRC2dM4"
      },
      "execution_count": 14,
      "outputs": []
    },
    {
      "cell_type": "code",
      "metadata": {
        "id": "S2GsQIH3GAb-"
      },
      "source": [
        "#train_data = pd.read_csv(\"labeled.csv\")\n",
        "train_data = pd.DataFrame(data_list, columns=[\"comment\", \"toxic\"])"
      ],
      "execution_count": 15,
      "outputs": []
    },
    {
      "cell_type": "code",
      "metadata": {
        "id": "8xrGcwHhmSCw"
      },
      "source": [
        "tokenizer = WordPunctTokenizer()"
      ],
      "execution_count": 16,
      "outputs": []
    },
    {
      "cell_type": "code",
      "source": [
        "train_data"
      ],
      "metadata": {
        "colab": {
          "base_uri": "https://localhost:8080/",
          "height": 424
        },
        "id": "p6nXPJ2kAwGc",
        "outputId": "bf867445-775a-4de5-c8ea-8cc25415163c"
      },
      "execution_count": 17,
      "outputs": [
        {
          "output_type": "execute_result",
          "data": {
            "text/plain": [
              "                                                  comment  toxic\n",
              "0                                    скотина  что сказать      1\n",
              "1       я сегодня проезжала по рабочей и между домами ...      0\n",
              "2       очередной лохотрон  зачем придумывать очередно...      0\n",
              "3       ретро дежавю     сложно понять чужое сердце   ...      0\n",
              "4                 а когда мы статус агрогородка получили       0\n",
              "...                                                   ...    ...\n",
              "248285                       правильно вс  по пять             0\n",
              "248286   банные нубы заходите на сервер мой ник  creep...      1\n",
              "248287  а у меня наверное рекорд в      году в училище...      0\n",
              "248288                              спасибо всем большое       0\n",
              "248289  нельзя ли увеличить хотя бы в два раза некотор...      0\n",
              "\n",
              "[248290 rows x 2 columns]"
            ],
            "text/html": [
              "\n",
              "  <div id=\"df-1c607e74-2886-483e-b610-7de46713f5fa\">\n",
              "    <div class=\"colab-df-container\">\n",
              "      <div>\n",
              "<style scoped>\n",
              "    .dataframe tbody tr th:only-of-type {\n",
              "        vertical-align: middle;\n",
              "    }\n",
              "\n",
              "    .dataframe tbody tr th {\n",
              "        vertical-align: top;\n",
              "    }\n",
              "\n",
              "    .dataframe thead th {\n",
              "        text-align: right;\n",
              "    }\n",
              "</style>\n",
              "<table border=\"1\" class=\"dataframe\">\n",
              "  <thead>\n",
              "    <tr style=\"text-align: right;\">\n",
              "      <th></th>\n",
              "      <th>comment</th>\n",
              "      <th>toxic</th>\n",
              "    </tr>\n",
              "  </thead>\n",
              "  <tbody>\n",
              "    <tr>\n",
              "      <th>0</th>\n",
              "      <td>скотина  что сказать</td>\n",
              "      <td>1</td>\n",
              "    </tr>\n",
              "    <tr>\n",
              "      <th>1</th>\n",
              "      <td>я сегодня проезжала по рабочей и между домами ...</td>\n",
              "      <td>0</td>\n",
              "    </tr>\n",
              "    <tr>\n",
              "      <th>2</th>\n",
              "      <td>очередной лохотрон  зачем придумывать очередно...</td>\n",
              "      <td>0</td>\n",
              "    </tr>\n",
              "    <tr>\n",
              "      <th>3</th>\n",
              "      <td>ретро дежавю     сложно понять чужое сердце   ...</td>\n",
              "      <td>0</td>\n",
              "    </tr>\n",
              "    <tr>\n",
              "      <th>4</th>\n",
              "      <td>а когда мы статус агрогородка получили</td>\n",
              "      <td>0</td>\n",
              "    </tr>\n",
              "    <tr>\n",
              "      <th>...</th>\n",
              "      <td>...</td>\n",
              "      <td>...</td>\n",
              "    </tr>\n",
              "    <tr>\n",
              "      <th>248285</th>\n",
              "      <td>правильно вс  по пять</td>\n",
              "      <td>0</td>\n",
              "    </tr>\n",
              "    <tr>\n",
              "      <th>248286</th>\n",
              "      <td>банные нубы заходите на сервер мой ник  creep...</td>\n",
              "      <td>1</td>\n",
              "    </tr>\n",
              "    <tr>\n",
              "      <th>248287</th>\n",
              "      <td>а у меня наверное рекорд в      году в училище...</td>\n",
              "      <td>0</td>\n",
              "    </tr>\n",
              "    <tr>\n",
              "      <th>248288</th>\n",
              "      <td>спасибо всем большое</td>\n",
              "      <td>0</td>\n",
              "    </tr>\n",
              "    <tr>\n",
              "      <th>248289</th>\n",
              "      <td>нельзя ли увеличить хотя бы в два раза некотор...</td>\n",
              "      <td>0</td>\n",
              "    </tr>\n",
              "  </tbody>\n",
              "</table>\n",
              "<p>248290 rows × 2 columns</p>\n",
              "</div>\n",
              "      <button class=\"colab-df-convert\" onclick=\"convertToInteractive('df-1c607e74-2886-483e-b610-7de46713f5fa')\"\n",
              "              title=\"Convert this dataframe to an interactive table.\"\n",
              "              style=\"display:none;\">\n",
              "        \n",
              "  <svg xmlns=\"http://www.w3.org/2000/svg\" height=\"24px\"viewBox=\"0 0 24 24\"\n",
              "       width=\"24px\">\n",
              "    <path d=\"M0 0h24v24H0V0z\" fill=\"none\"/>\n",
              "    <path d=\"M18.56 5.44l.94 2.06.94-2.06 2.06-.94-2.06-.94-.94-2.06-.94 2.06-2.06.94zm-11 1L8.5 8.5l.94-2.06 2.06-.94-2.06-.94L8.5 2.5l-.94 2.06-2.06.94zm10 10l.94 2.06.94-2.06 2.06-.94-2.06-.94-.94-2.06-.94 2.06-2.06.94z\"/><path d=\"M17.41 7.96l-1.37-1.37c-.4-.4-.92-.59-1.43-.59-.52 0-1.04.2-1.43.59L10.3 9.45l-7.72 7.72c-.78.78-.78 2.05 0 2.83L4 21.41c.39.39.9.59 1.41.59.51 0 1.02-.2 1.41-.59l7.78-7.78 2.81-2.81c.8-.78.8-2.07 0-2.86zM5.41 20L4 18.59l7.72-7.72 1.47 1.35L5.41 20z\"/>\n",
              "  </svg>\n",
              "      </button>\n",
              "      \n",
              "  <style>\n",
              "    .colab-df-container {\n",
              "      display:flex;\n",
              "      flex-wrap:wrap;\n",
              "      gap: 12px;\n",
              "    }\n",
              "\n",
              "    .colab-df-convert {\n",
              "      background-color: #E8F0FE;\n",
              "      border: none;\n",
              "      border-radius: 50%;\n",
              "      cursor: pointer;\n",
              "      display: none;\n",
              "      fill: #1967D2;\n",
              "      height: 32px;\n",
              "      padding: 0 0 0 0;\n",
              "      width: 32px;\n",
              "    }\n",
              "\n",
              "    .colab-df-convert:hover {\n",
              "      background-color: #E2EBFA;\n",
              "      box-shadow: 0px 1px 2px rgba(60, 64, 67, 0.3), 0px 1px 3px 1px rgba(60, 64, 67, 0.15);\n",
              "      fill: #174EA6;\n",
              "    }\n",
              "\n",
              "    [theme=dark] .colab-df-convert {\n",
              "      background-color: #3B4455;\n",
              "      fill: #D2E3FC;\n",
              "    }\n",
              "\n",
              "    [theme=dark] .colab-df-convert:hover {\n",
              "      background-color: #434B5C;\n",
              "      box-shadow: 0px 1px 3px 1px rgba(0, 0, 0, 0.15);\n",
              "      filter: drop-shadow(0px 1px 2px rgba(0, 0, 0, 0.3));\n",
              "      fill: #FFFFFF;\n",
              "    }\n",
              "  </style>\n",
              "\n",
              "      <script>\n",
              "        const buttonEl =\n",
              "          document.querySelector('#df-1c607e74-2886-483e-b610-7de46713f5fa button.colab-df-convert');\n",
              "        buttonEl.style.display =\n",
              "          google.colab.kernel.accessAllowed ? 'block' : 'none';\n",
              "\n",
              "        async function convertToInteractive(key) {\n",
              "          const element = document.querySelector('#df-1c607e74-2886-483e-b610-7de46713f5fa');\n",
              "          const dataTable =\n",
              "            await google.colab.kernel.invokeFunction('convertToInteractive',\n",
              "                                                     [key], {});\n",
              "          if (!dataTable) return;\n",
              "\n",
              "          const docLinkHtml = 'Like what you see? Visit the ' +\n",
              "            '<a target=\"_blank\" href=https://colab.research.google.com/notebooks/data_table.ipynb>data table notebook</a>'\n",
              "            + ' to learn more about interactive tables.';\n",
              "          element.innerHTML = '';\n",
              "          dataTable['output_type'] = 'display_data';\n",
              "          await google.colab.output.renderOutput(dataTable, element);\n",
              "          const docLink = document.createElement('div');\n",
              "          docLink.innerHTML = docLinkHtml;\n",
              "          element.appendChild(docLink);\n",
              "        }\n",
              "      </script>\n",
              "    </div>\n",
              "  </div>\n",
              "  "
            ]
          },
          "metadata": {},
          "execution_count": 17
        }
      ]
    },
    {
      "cell_type": "code",
      "metadata": {
        "id": "q22hFqX0jdwE"
      },
      "source": [
        "#train_data = train_data.sort_values(by=[\"comment\"], key=lambda x: x.str.len())"
      ],
      "execution_count": 18,
      "outputs": []
    },
    {
      "cell_type": "code",
      "metadata": {
        "id": "wciWzQvwmnkU"
      },
      "source": [
        "train_data[\"comment\"] = train_data[\"comment\"].apply(lambda x: tokenizer.tokenize(x.lower()))"
      ],
      "execution_count": 19,
      "outputs": []
    },
    {
      "cell_type": "code",
      "metadata": {
        "id": "wtMDvHmVG5fj"
      },
      "source": [
        "#train_data[\"toxic\"] = train_data[\"toxic\"].apply(lambda x: bin2classes(x))"
      ],
      "execution_count": 20,
      "outputs": []
    },
    {
      "cell_type": "code",
      "metadata": {
        "colab": {
          "base_uri": "https://localhost:8080/",
          "height": 424
        },
        "id": "JiU97olpnFwW",
        "outputId": "d5920a72-5c3c-49f8-d255-0f27c539909b"
      },
      "source": [
        "train_data"
      ],
      "execution_count": 21,
      "outputs": [
        {
          "output_type": "execute_result",
          "data": {
            "text/plain": [
              "                                                  comment  toxic\n",
              "0                                 [скотина, что, сказать]      1\n",
              "1       [я, сегодня, проезжала, по, рабочей, и, между,...      0\n",
              "2       [очередной, лохотрон, зачем, придумывать, очер...      0\n",
              "3       [ретро, дежавю, сложно, понять, чужое, сердце,...      0\n",
              "4           [а, когда, мы, статус, агрогородка, получили]      0\n",
              "...                                                   ...    ...\n",
              "248285                          [правильно, вс, по, пять]      0\n",
              "248286  [банные, нубы, заходите, на, сервер, мой, ник,...      1\n",
              "248287  [а, у, меня, наверное, рекорд, в, году, в, учи...      0\n",
              "248288                           [спасибо, всем, большое]      0\n",
              "248289  [нельзя, ли, увеличить, хотя, бы, в, два, раза...      0\n",
              "\n",
              "[248290 rows x 2 columns]"
            ],
            "text/html": [
              "\n",
              "  <div id=\"df-8bba9068-b681-4297-a032-e4b0c4c1db89\">\n",
              "    <div class=\"colab-df-container\">\n",
              "      <div>\n",
              "<style scoped>\n",
              "    .dataframe tbody tr th:only-of-type {\n",
              "        vertical-align: middle;\n",
              "    }\n",
              "\n",
              "    .dataframe tbody tr th {\n",
              "        vertical-align: top;\n",
              "    }\n",
              "\n",
              "    .dataframe thead th {\n",
              "        text-align: right;\n",
              "    }\n",
              "</style>\n",
              "<table border=\"1\" class=\"dataframe\">\n",
              "  <thead>\n",
              "    <tr style=\"text-align: right;\">\n",
              "      <th></th>\n",
              "      <th>comment</th>\n",
              "      <th>toxic</th>\n",
              "    </tr>\n",
              "  </thead>\n",
              "  <tbody>\n",
              "    <tr>\n",
              "      <th>0</th>\n",
              "      <td>[скотина, что, сказать]</td>\n",
              "      <td>1</td>\n",
              "    </tr>\n",
              "    <tr>\n",
              "      <th>1</th>\n",
              "      <td>[я, сегодня, проезжала, по, рабочей, и, между,...</td>\n",
              "      <td>0</td>\n",
              "    </tr>\n",
              "    <tr>\n",
              "      <th>2</th>\n",
              "      <td>[очередной, лохотрон, зачем, придумывать, очер...</td>\n",
              "      <td>0</td>\n",
              "    </tr>\n",
              "    <tr>\n",
              "      <th>3</th>\n",
              "      <td>[ретро, дежавю, сложно, понять, чужое, сердце,...</td>\n",
              "      <td>0</td>\n",
              "    </tr>\n",
              "    <tr>\n",
              "      <th>4</th>\n",
              "      <td>[а, когда, мы, статус, агрогородка, получили]</td>\n",
              "      <td>0</td>\n",
              "    </tr>\n",
              "    <tr>\n",
              "      <th>...</th>\n",
              "      <td>...</td>\n",
              "      <td>...</td>\n",
              "    </tr>\n",
              "    <tr>\n",
              "      <th>248285</th>\n",
              "      <td>[правильно, вс, по, пять]</td>\n",
              "      <td>0</td>\n",
              "    </tr>\n",
              "    <tr>\n",
              "      <th>248286</th>\n",
              "      <td>[банные, нубы, заходите, на, сервер, мой, ник,...</td>\n",
              "      <td>1</td>\n",
              "    </tr>\n",
              "    <tr>\n",
              "      <th>248287</th>\n",
              "      <td>[а, у, меня, наверное, рекорд, в, году, в, учи...</td>\n",
              "      <td>0</td>\n",
              "    </tr>\n",
              "    <tr>\n",
              "      <th>248288</th>\n",
              "      <td>[спасибо, всем, большое]</td>\n",
              "      <td>0</td>\n",
              "    </tr>\n",
              "    <tr>\n",
              "      <th>248289</th>\n",
              "      <td>[нельзя, ли, увеличить, хотя, бы, в, два, раза...</td>\n",
              "      <td>0</td>\n",
              "    </tr>\n",
              "  </tbody>\n",
              "</table>\n",
              "<p>248290 rows × 2 columns</p>\n",
              "</div>\n",
              "      <button class=\"colab-df-convert\" onclick=\"convertToInteractive('df-8bba9068-b681-4297-a032-e4b0c4c1db89')\"\n",
              "              title=\"Convert this dataframe to an interactive table.\"\n",
              "              style=\"display:none;\">\n",
              "        \n",
              "  <svg xmlns=\"http://www.w3.org/2000/svg\" height=\"24px\"viewBox=\"0 0 24 24\"\n",
              "       width=\"24px\">\n",
              "    <path d=\"M0 0h24v24H0V0z\" fill=\"none\"/>\n",
              "    <path d=\"M18.56 5.44l.94 2.06.94-2.06 2.06-.94-2.06-.94-.94-2.06-.94 2.06-2.06.94zm-11 1L8.5 8.5l.94-2.06 2.06-.94-2.06-.94L8.5 2.5l-.94 2.06-2.06.94zm10 10l.94 2.06.94-2.06 2.06-.94-2.06-.94-.94-2.06-.94 2.06-2.06.94z\"/><path d=\"M17.41 7.96l-1.37-1.37c-.4-.4-.92-.59-1.43-.59-.52 0-1.04.2-1.43.59L10.3 9.45l-7.72 7.72c-.78.78-.78 2.05 0 2.83L4 21.41c.39.39.9.59 1.41.59.51 0 1.02-.2 1.41-.59l7.78-7.78 2.81-2.81c.8-.78.8-2.07 0-2.86zM5.41 20L4 18.59l7.72-7.72 1.47 1.35L5.41 20z\"/>\n",
              "  </svg>\n",
              "      </button>\n",
              "      \n",
              "  <style>\n",
              "    .colab-df-container {\n",
              "      display:flex;\n",
              "      flex-wrap:wrap;\n",
              "      gap: 12px;\n",
              "    }\n",
              "\n",
              "    .colab-df-convert {\n",
              "      background-color: #E8F0FE;\n",
              "      border: none;\n",
              "      border-radius: 50%;\n",
              "      cursor: pointer;\n",
              "      display: none;\n",
              "      fill: #1967D2;\n",
              "      height: 32px;\n",
              "      padding: 0 0 0 0;\n",
              "      width: 32px;\n",
              "    }\n",
              "\n",
              "    .colab-df-convert:hover {\n",
              "      background-color: #E2EBFA;\n",
              "      box-shadow: 0px 1px 2px rgba(60, 64, 67, 0.3), 0px 1px 3px 1px rgba(60, 64, 67, 0.15);\n",
              "      fill: #174EA6;\n",
              "    }\n",
              "\n",
              "    [theme=dark] .colab-df-convert {\n",
              "      background-color: #3B4455;\n",
              "      fill: #D2E3FC;\n",
              "    }\n",
              "\n",
              "    [theme=dark] .colab-df-convert:hover {\n",
              "      background-color: #434B5C;\n",
              "      box-shadow: 0px 1px 3px 1px rgba(0, 0, 0, 0.15);\n",
              "      filter: drop-shadow(0px 1px 2px rgba(0, 0, 0, 0.3));\n",
              "      fill: #FFFFFF;\n",
              "    }\n",
              "  </style>\n",
              "\n",
              "      <script>\n",
              "        const buttonEl =\n",
              "          document.querySelector('#df-8bba9068-b681-4297-a032-e4b0c4c1db89 button.colab-df-convert');\n",
              "        buttonEl.style.display =\n",
              "          google.colab.kernel.accessAllowed ? 'block' : 'none';\n",
              "\n",
              "        async function convertToInteractive(key) {\n",
              "          const element = document.querySelector('#df-8bba9068-b681-4297-a032-e4b0c4c1db89');\n",
              "          const dataTable =\n",
              "            await google.colab.kernel.invokeFunction('convertToInteractive',\n",
              "                                                     [key], {});\n",
              "          if (!dataTable) return;\n",
              "\n",
              "          const docLinkHtml = 'Like what you see? Visit the ' +\n",
              "            '<a target=\"_blank\" href=https://colab.research.google.com/notebooks/data_table.ipynb>data table notebook</a>'\n",
              "            + ' to learn more about interactive tables.';\n",
              "          element.innerHTML = '';\n",
              "          dataTable['output_type'] = 'display_data';\n",
              "          await google.colab.output.renderOutput(dataTable, element);\n",
              "          const docLink = document.createElement('div');\n",
              "          docLink.innerHTML = docLinkHtml;\n",
              "          element.appendChild(docLink);\n",
              "        }\n",
              "      </script>\n",
              "    </div>\n",
              "  </div>\n",
              "  "
            ]
          },
          "metadata": {},
          "execution_count": 21
        }
      ]
    },
    {
      "cell_type": "code",
      "metadata": {
        "id": "PzaQe9UKggqT"
      },
      "source": [
        "train_data['indexed_text'] = train_data['comment'].apply(lambda x: get_text_indexes(x,model))"
      ],
      "execution_count": 22,
      "outputs": []
    },
    {
      "cell_type": "code",
      "metadata": {
        "colab": {
          "base_uri": "https://localhost:8080/",
          "height": 206
        },
        "id": "JQ_h6pk5itf4",
        "outputId": "d1abace5-c3b1-418d-8809-6f09a60f3695"
      },
      "source": [
        "train_data.head()"
      ],
      "execution_count": 23,
      "outputs": [
        {
          "output_type": "execute_result",
          "data": {
            "text/plain": [
              "                                             comment  toxic  \\\n",
              "0                            [скотина, что, сказать]      1   \n",
              "1  [я, сегодня, проезжала, по, рабочей, и, между,...      0   \n",
              "2  [очередной, лохотрон, зачем, придумывать, очер...      0   \n",
              "3  [ретро, дежавю, сложно, понять, чужое, сердце,...      0   \n",
              "4      [а, когда, мы, статус, агрогородка, получили]      0   \n",
              "\n",
              "                                        indexed_text  \n",
              "0                           [400498, 482066, 398293]  \n",
              "1  [497765, 392196, 346615, 302187, 358548, 14647...  \n",
              "2  [283911, 200367, 141519, 337022, 283911, 23006...  \n",
              "3  [376265, 103570, 403163, 320447, 482630, 39450...  \n",
              "4    [14251, 173619, 223848, 418744, 500000, 318245]  "
            ],
            "text/html": [
              "\n",
              "  <div id=\"df-e070e621-fefa-409a-8994-8e3607ba7f33\">\n",
              "    <div class=\"colab-df-container\">\n",
              "      <div>\n",
              "<style scoped>\n",
              "    .dataframe tbody tr th:only-of-type {\n",
              "        vertical-align: middle;\n",
              "    }\n",
              "\n",
              "    .dataframe tbody tr th {\n",
              "        vertical-align: top;\n",
              "    }\n",
              "\n",
              "    .dataframe thead th {\n",
              "        text-align: right;\n",
              "    }\n",
              "</style>\n",
              "<table border=\"1\" class=\"dataframe\">\n",
              "  <thead>\n",
              "    <tr style=\"text-align: right;\">\n",
              "      <th></th>\n",
              "      <th>comment</th>\n",
              "      <th>toxic</th>\n",
              "      <th>indexed_text</th>\n",
              "    </tr>\n",
              "  </thead>\n",
              "  <tbody>\n",
              "    <tr>\n",
              "      <th>0</th>\n",
              "      <td>[скотина, что, сказать]</td>\n",
              "      <td>1</td>\n",
              "      <td>[400498, 482066, 398293]</td>\n",
              "    </tr>\n",
              "    <tr>\n",
              "      <th>1</th>\n",
              "      <td>[я, сегодня, проезжала, по, рабочей, и, между,...</td>\n",
              "      <td>0</td>\n",
              "      <td>[497765, 392196, 346615, 302187, 358548, 14647...</td>\n",
              "    </tr>\n",
              "    <tr>\n",
              "      <th>2</th>\n",
              "      <td>[очередной, лохотрон, зачем, придумывать, очер...</td>\n",
              "      <td>0</td>\n",
              "      <td>[283911, 200367, 141519, 337022, 283911, 23006...</td>\n",
              "    </tr>\n",
              "    <tr>\n",
              "      <th>3</th>\n",
              "      <td>[ретро, дежавю, сложно, понять, чужое, сердце,...</td>\n",
              "      <td>0</td>\n",
              "      <td>[376265, 103570, 403163, 320447, 482630, 39450...</td>\n",
              "    </tr>\n",
              "    <tr>\n",
              "      <th>4</th>\n",
              "      <td>[а, когда, мы, статус, агрогородка, получили]</td>\n",
              "      <td>0</td>\n",
              "      <td>[14251, 173619, 223848, 418744, 500000, 318245]</td>\n",
              "    </tr>\n",
              "  </tbody>\n",
              "</table>\n",
              "</div>\n",
              "      <button class=\"colab-df-convert\" onclick=\"convertToInteractive('df-e070e621-fefa-409a-8994-8e3607ba7f33')\"\n",
              "              title=\"Convert this dataframe to an interactive table.\"\n",
              "              style=\"display:none;\">\n",
              "        \n",
              "  <svg xmlns=\"http://www.w3.org/2000/svg\" height=\"24px\"viewBox=\"0 0 24 24\"\n",
              "       width=\"24px\">\n",
              "    <path d=\"M0 0h24v24H0V0z\" fill=\"none\"/>\n",
              "    <path d=\"M18.56 5.44l.94 2.06.94-2.06 2.06-.94-2.06-.94-.94-2.06-.94 2.06-2.06.94zm-11 1L8.5 8.5l.94-2.06 2.06-.94-2.06-.94L8.5 2.5l-.94 2.06-2.06.94zm10 10l.94 2.06.94-2.06 2.06-.94-2.06-.94-.94-2.06-.94 2.06-2.06.94z\"/><path d=\"M17.41 7.96l-1.37-1.37c-.4-.4-.92-.59-1.43-.59-.52 0-1.04.2-1.43.59L10.3 9.45l-7.72 7.72c-.78.78-.78 2.05 0 2.83L4 21.41c.39.39.9.59 1.41.59.51 0 1.02-.2 1.41-.59l7.78-7.78 2.81-2.81c.8-.78.8-2.07 0-2.86zM5.41 20L4 18.59l7.72-7.72 1.47 1.35L5.41 20z\"/>\n",
              "  </svg>\n",
              "      </button>\n",
              "      \n",
              "  <style>\n",
              "    .colab-df-container {\n",
              "      display:flex;\n",
              "      flex-wrap:wrap;\n",
              "      gap: 12px;\n",
              "    }\n",
              "\n",
              "    .colab-df-convert {\n",
              "      background-color: #E8F0FE;\n",
              "      border: none;\n",
              "      border-radius: 50%;\n",
              "      cursor: pointer;\n",
              "      display: none;\n",
              "      fill: #1967D2;\n",
              "      height: 32px;\n",
              "      padding: 0 0 0 0;\n",
              "      width: 32px;\n",
              "    }\n",
              "\n",
              "    .colab-df-convert:hover {\n",
              "      background-color: #E2EBFA;\n",
              "      box-shadow: 0px 1px 2px rgba(60, 64, 67, 0.3), 0px 1px 3px 1px rgba(60, 64, 67, 0.15);\n",
              "      fill: #174EA6;\n",
              "    }\n",
              "\n",
              "    [theme=dark] .colab-df-convert {\n",
              "      background-color: #3B4455;\n",
              "      fill: #D2E3FC;\n",
              "    }\n",
              "\n",
              "    [theme=dark] .colab-df-convert:hover {\n",
              "      background-color: #434B5C;\n",
              "      box-shadow: 0px 1px 3px 1px rgba(0, 0, 0, 0.15);\n",
              "      filter: drop-shadow(0px 1px 2px rgba(0, 0, 0, 0.3));\n",
              "      fill: #FFFFFF;\n",
              "    }\n",
              "  </style>\n",
              "\n",
              "      <script>\n",
              "        const buttonEl =\n",
              "          document.querySelector('#df-e070e621-fefa-409a-8994-8e3607ba7f33 button.colab-df-convert');\n",
              "        buttonEl.style.display =\n",
              "          google.colab.kernel.accessAllowed ? 'block' : 'none';\n",
              "\n",
              "        async function convertToInteractive(key) {\n",
              "          const element = document.querySelector('#df-e070e621-fefa-409a-8994-8e3607ba7f33');\n",
              "          const dataTable =\n",
              "            await google.colab.kernel.invokeFunction('convertToInteractive',\n",
              "                                                     [key], {});\n",
              "          if (!dataTable) return;\n",
              "\n",
              "          const docLinkHtml = 'Like what you see? Visit the ' +\n",
              "            '<a target=\"_blank\" href=https://colab.research.google.com/notebooks/data_table.ipynb>data table notebook</a>'\n",
              "            + ' to learn more about interactive tables.';\n",
              "          element.innerHTML = '';\n",
              "          dataTable['output_type'] = 'display_data';\n",
              "          await google.colab.output.renderOutput(dataTable, element);\n",
              "          const docLink = document.createElement('div');\n",
              "          docLink.innerHTML = docLinkHtml;\n",
              "          element.appendChild(docLink);\n",
              "        }\n",
              "      </script>\n",
              "    </div>\n",
              "  </div>\n",
              "  "
            ]
          },
          "metadata": {},
          "execution_count": 23
        }
      ]
    },
    {
      "cell_type": "code",
      "metadata": {
        "id": "9jGFUteEhBHp"
      },
      "source": [
        "train_data['indexed_text_len'] = train_data['indexed_text'].apply(lambda x: len(x))"
      ],
      "execution_count": 24,
      "outputs": []
    },
    {
      "cell_type": "code",
      "metadata": {
        "colab": {
          "base_uri": "https://localhost:8080/",
          "height": 424
        },
        "id": "6YRva7wSptGp",
        "outputId": "a3fb1029-d38d-4b78-e862-3ed2887ed45a"
      },
      "source": [
        "train_data"
      ],
      "execution_count": 25,
      "outputs": [
        {
          "output_type": "execute_result",
          "data": {
            "text/plain": [
              "                                                  comment  toxic  \\\n",
              "0                                 [скотина, что, сказать]      1   \n",
              "1       [я, сегодня, проезжала, по, рабочей, и, между,...      0   \n",
              "2       [очередной, лохотрон, зачем, придумывать, очер...      0   \n",
              "3       [ретро, дежавю, сложно, понять, чужое, сердце,...      0   \n",
              "4           [а, когда, мы, статус, агрогородка, получили]      0   \n",
              "...                                                   ...    ...   \n",
              "248285                          [правильно, вс, по, пять]      0   \n",
              "248286  [банные, нубы, заходите, на, сервер, мой, ник,...      1   \n",
              "248287  [а, у, меня, наверное, рекорд, в, году, в, учи...      0   \n",
              "248288                           [спасибо, всем, большое]      0   \n",
              "248289  [нельзя, ли, увеличить, хотя, бы, в, два, раза...      0   \n",
              "\n",
              "                                             indexed_text  indexed_text_len  \n",
              "0                                [400498, 482066, 398293]                 3  \n",
              "1       [497765, 392196, 346615, 302187, 358548, 14647...                28  \n",
              "2       [283911, 200367, 141519, 337022, 283911, 23006...                54  \n",
              "3       [376265, 103570, 403163, 320447, 482630, 39450...                10  \n",
              "4         [14251, 173619, 223848, 418744, 500000, 318245]                 6  \n",
              "...                                                   ...               ...  \n",
              "248285                    [329214, 72080, 302187, 358229]                 4  \n",
              "248286  [31148, 500000, 141214, 225007, 394252, 218719...                23  \n",
              "248287  [14251, 445396, 212183, 225834, 375182, 51199,...                30  \n",
              "248288                             [413939, 72355, 44075]                 3  \n",
              "248289  [241189, 196135, 446506, 473260, 50423, 51199,...                59  \n",
              "\n",
              "[248290 rows x 4 columns]"
            ],
            "text/html": [
              "\n",
              "  <div id=\"df-39f8dbb0-7ad3-4ea3-b8da-7b04737afab2\">\n",
              "    <div class=\"colab-df-container\">\n",
              "      <div>\n",
              "<style scoped>\n",
              "    .dataframe tbody tr th:only-of-type {\n",
              "        vertical-align: middle;\n",
              "    }\n",
              "\n",
              "    .dataframe tbody tr th {\n",
              "        vertical-align: top;\n",
              "    }\n",
              "\n",
              "    .dataframe thead th {\n",
              "        text-align: right;\n",
              "    }\n",
              "</style>\n",
              "<table border=\"1\" class=\"dataframe\">\n",
              "  <thead>\n",
              "    <tr style=\"text-align: right;\">\n",
              "      <th></th>\n",
              "      <th>comment</th>\n",
              "      <th>toxic</th>\n",
              "      <th>indexed_text</th>\n",
              "      <th>indexed_text_len</th>\n",
              "    </tr>\n",
              "  </thead>\n",
              "  <tbody>\n",
              "    <tr>\n",
              "      <th>0</th>\n",
              "      <td>[скотина, что, сказать]</td>\n",
              "      <td>1</td>\n",
              "      <td>[400498, 482066, 398293]</td>\n",
              "      <td>3</td>\n",
              "    </tr>\n",
              "    <tr>\n",
              "      <th>1</th>\n",
              "      <td>[я, сегодня, проезжала, по, рабочей, и, между,...</td>\n",
              "      <td>0</td>\n",
              "      <td>[497765, 392196, 346615, 302187, 358548, 14647...</td>\n",
              "      <td>28</td>\n",
              "    </tr>\n",
              "    <tr>\n",
              "      <th>2</th>\n",
              "      <td>[очередной, лохотрон, зачем, придумывать, очер...</td>\n",
              "      <td>0</td>\n",
              "      <td>[283911, 200367, 141519, 337022, 283911, 23006...</td>\n",
              "      <td>54</td>\n",
              "    </tr>\n",
              "    <tr>\n",
              "      <th>3</th>\n",
              "      <td>[ретро, дежавю, сложно, понять, чужое, сердце,...</td>\n",
              "      <td>0</td>\n",
              "      <td>[376265, 103570, 403163, 320447, 482630, 39450...</td>\n",
              "      <td>10</td>\n",
              "    </tr>\n",
              "    <tr>\n",
              "      <th>4</th>\n",
              "      <td>[а, когда, мы, статус, агрогородка, получили]</td>\n",
              "      <td>0</td>\n",
              "      <td>[14251, 173619, 223848, 418744, 500000, 318245]</td>\n",
              "      <td>6</td>\n",
              "    </tr>\n",
              "    <tr>\n",
              "      <th>...</th>\n",
              "      <td>...</td>\n",
              "      <td>...</td>\n",
              "      <td>...</td>\n",
              "      <td>...</td>\n",
              "    </tr>\n",
              "    <tr>\n",
              "      <th>248285</th>\n",
              "      <td>[правильно, вс, по, пять]</td>\n",
              "      <td>0</td>\n",
              "      <td>[329214, 72080, 302187, 358229]</td>\n",
              "      <td>4</td>\n",
              "    </tr>\n",
              "    <tr>\n",
              "      <th>248286</th>\n",
              "      <td>[банные, нубы, заходите, на, сервер, мой, ник,...</td>\n",
              "      <td>1</td>\n",
              "      <td>[31148, 500000, 141214, 225007, 394252, 218719...</td>\n",
              "      <td>23</td>\n",
              "    </tr>\n",
              "    <tr>\n",
              "      <th>248287</th>\n",
              "      <td>[а, у, меня, наверное, рекорд, в, году, в, учи...</td>\n",
              "      <td>0</td>\n",
              "      <td>[14251, 445396, 212183, 225834, 375182, 51199,...</td>\n",
              "      <td>30</td>\n",
              "    </tr>\n",
              "    <tr>\n",
              "      <th>248288</th>\n",
              "      <td>[спасибо, всем, большое]</td>\n",
              "      <td>0</td>\n",
              "      <td>[413939, 72355, 44075]</td>\n",
              "      <td>3</td>\n",
              "    </tr>\n",
              "    <tr>\n",
              "      <th>248289</th>\n",
              "      <td>[нельзя, ли, увеличить, хотя, бы, в, два, раза...</td>\n",
              "      <td>0</td>\n",
              "      <td>[241189, 196135, 446506, 473260, 50423, 51199,...</td>\n",
              "      <td>59</td>\n",
              "    </tr>\n",
              "  </tbody>\n",
              "</table>\n",
              "<p>248290 rows × 4 columns</p>\n",
              "</div>\n",
              "      <button class=\"colab-df-convert\" onclick=\"convertToInteractive('df-39f8dbb0-7ad3-4ea3-b8da-7b04737afab2')\"\n",
              "              title=\"Convert this dataframe to an interactive table.\"\n",
              "              style=\"display:none;\">\n",
              "        \n",
              "  <svg xmlns=\"http://www.w3.org/2000/svg\" height=\"24px\"viewBox=\"0 0 24 24\"\n",
              "       width=\"24px\">\n",
              "    <path d=\"M0 0h24v24H0V0z\" fill=\"none\"/>\n",
              "    <path d=\"M18.56 5.44l.94 2.06.94-2.06 2.06-.94-2.06-.94-.94-2.06-.94 2.06-2.06.94zm-11 1L8.5 8.5l.94-2.06 2.06-.94-2.06-.94L8.5 2.5l-.94 2.06-2.06.94zm10 10l.94 2.06.94-2.06 2.06-.94-2.06-.94-.94-2.06-.94 2.06-2.06.94z\"/><path d=\"M17.41 7.96l-1.37-1.37c-.4-.4-.92-.59-1.43-.59-.52 0-1.04.2-1.43.59L10.3 9.45l-7.72 7.72c-.78.78-.78 2.05 0 2.83L4 21.41c.39.39.9.59 1.41.59.51 0 1.02-.2 1.41-.59l7.78-7.78 2.81-2.81c.8-.78.8-2.07 0-2.86zM5.41 20L4 18.59l7.72-7.72 1.47 1.35L5.41 20z\"/>\n",
              "  </svg>\n",
              "      </button>\n",
              "      \n",
              "  <style>\n",
              "    .colab-df-container {\n",
              "      display:flex;\n",
              "      flex-wrap:wrap;\n",
              "      gap: 12px;\n",
              "    }\n",
              "\n",
              "    .colab-df-convert {\n",
              "      background-color: #E8F0FE;\n",
              "      border: none;\n",
              "      border-radius: 50%;\n",
              "      cursor: pointer;\n",
              "      display: none;\n",
              "      fill: #1967D2;\n",
              "      height: 32px;\n",
              "      padding: 0 0 0 0;\n",
              "      width: 32px;\n",
              "    }\n",
              "\n",
              "    .colab-df-convert:hover {\n",
              "      background-color: #E2EBFA;\n",
              "      box-shadow: 0px 1px 2px rgba(60, 64, 67, 0.3), 0px 1px 3px 1px rgba(60, 64, 67, 0.15);\n",
              "      fill: #174EA6;\n",
              "    }\n",
              "\n",
              "    [theme=dark] .colab-df-convert {\n",
              "      background-color: #3B4455;\n",
              "      fill: #D2E3FC;\n",
              "    }\n",
              "\n",
              "    [theme=dark] .colab-df-convert:hover {\n",
              "      background-color: #434B5C;\n",
              "      box-shadow: 0px 1px 3px 1px rgba(0, 0, 0, 0.15);\n",
              "      filter: drop-shadow(0px 1px 2px rgba(0, 0, 0, 0.3));\n",
              "      fill: #FFFFFF;\n",
              "    }\n",
              "  </style>\n",
              "\n",
              "      <script>\n",
              "        const buttonEl =\n",
              "          document.querySelector('#df-39f8dbb0-7ad3-4ea3-b8da-7b04737afab2 button.colab-df-convert');\n",
              "        buttonEl.style.display =\n",
              "          google.colab.kernel.accessAllowed ? 'block' : 'none';\n",
              "\n",
              "        async function convertToInteractive(key) {\n",
              "          const element = document.querySelector('#df-39f8dbb0-7ad3-4ea3-b8da-7b04737afab2');\n",
              "          const dataTable =\n",
              "            await google.colab.kernel.invokeFunction('convertToInteractive',\n",
              "                                                     [key], {});\n",
              "          if (!dataTable) return;\n",
              "\n",
              "          const docLinkHtml = 'Like what you see? Visit the ' +\n",
              "            '<a target=\"_blank\" href=https://colab.research.google.com/notebooks/data_table.ipynb>data table notebook</a>'\n",
              "            + ' to learn more about interactive tables.';\n",
              "          element.innerHTML = '';\n",
              "          dataTable['output_type'] = 'display_data';\n",
              "          await google.colab.output.renderOutput(dataTable, element);\n",
              "          const docLink = document.createElement('div');\n",
              "          docLink.innerHTML = docLinkHtml;\n",
              "          element.appendChild(docLink);\n",
              "        }\n",
              "      </script>\n",
              "    </div>\n",
              "  </div>\n",
              "  "
            ]
          },
          "metadata": {},
          "execution_count": 25
        }
      ]
    },
    {
      "cell_type": "code",
      "metadata": {
        "colab": {
          "base_uri": "https://localhost:8080/",
          "height": 424
        },
        "id": "r9X57-Ilizvt",
        "outputId": "f49559d4-d8c8-4dd5-80b9-b4a81442f17a"
      },
      "source": [
        "train_data"
      ],
      "execution_count": 26,
      "outputs": [
        {
          "output_type": "execute_result",
          "data": {
            "text/plain": [
              "                                                  comment  toxic  \\\n",
              "0                                 [скотина, что, сказать]      1   \n",
              "1       [я, сегодня, проезжала, по, рабочей, и, между,...      0   \n",
              "2       [очередной, лохотрон, зачем, придумывать, очер...      0   \n",
              "3       [ретро, дежавю, сложно, понять, чужое, сердце,...      0   \n",
              "4           [а, когда, мы, статус, агрогородка, получили]      0   \n",
              "...                                                   ...    ...   \n",
              "248285                          [правильно, вс, по, пять]      0   \n",
              "248286  [банные, нубы, заходите, на, сервер, мой, ник,...      1   \n",
              "248287  [а, у, меня, наверное, рекорд, в, году, в, учи...      0   \n",
              "248288                           [спасибо, всем, большое]      0   \n",
              "248289  [нельзя, ли, увеличить, хотя, бы, в, два, раза...      0   \n",
              "\n",
              "                                             indexed_text  indexed_text_len  \n",
              "0                                [400498, 482066, 398293]                 3  \n",
              "1       [497765, 392196, 346615, 302187, 358548, 14647...                28  \n",
              "2       [283911, 200367, 141519, 337022, 283911, 23006...                54  \n",
              "3       [376265, 103570, 403163, 320447, 482630, 39450...                10  \n",
              "4         [14251, 173619, 223848, 418744, 500000, 318245]                 6  \n",
              "...                                                   ...               ...  \n",
              "248285                    [329214, 72080, 302187, 358229]                 4  \n",
              "248286  [31148, 500000, 141214, 225007, 394252, 218719...                23  \n",
              "248287  [14251, 445396, 212183, 225834, 375182, 51199,...                30  \n",
              "248288                             [413939, 72355, 44075]                 3  \n",
              "248289  [241189, 196135, 446506, 473260, 50423, 51199,...                59  \n",
              "\n",
              "[248290 rows x 4 columns]"
            ],
            "text/html": [
              "\n",
              "  <div id=\"df-3ca903c6-bfe9-48b1-8b0b-f10f235165a9\">\n",
              "    <div class=\"colab-df-container\">\n",
              "      <div>\n",
              "<style scoped>\n",
              "    .dataframe tbody tr th:only-of-type {\n",
              "        vertical-align: middle;\n",
              "    }\n",
              "\n",
              "    .dataframe tbody tr th {\n",
              "        vertical-align: top;\n",
              "    }\n",
              "\n",
              "    .dataframe thead th {\n",
              "        text-align: right;\n",
              "    }\n",
              "</style>\n",
              "<table border=\"1\" class=\"dataframe\">\n",
              "  <thead>\n",
              "    <tr style=\"text-align: right;\">\n",
              "      <th></th>\n",
              "      <th>comment</th>\n",
              "      <th>toxic</th>\n",
              "      <th>indexed_text</th>\n",
              "      <th>indexed_text_len</th>\n",
              "    </tr>\n",
              "  </thead>\n",
              "  <tbody>\n",
              "    <tr>\n",
              "      <th>0</th>\n",
              "      <td>[скотина, что, сказать]</td>\n",
              "      <td>1</td>\n",
              "      <td>[400498, 482066, 398293]</td>\n",
              "      <td>3</td>\n",
              "    </tr>\n",
              "    <tr>\n",
              "      <th>1</th>\n",
              "      <td>[я, сегодня, проезжала, по, рабочей, и, между,...</td>\n",
              "      <td>0</td>\n",
              "      <td>[497765, 392196, 346615, 302187, 358548, 14647...</td>\n",
              "      <td>28</td>\n",
              "    </tr>\n",
              "    <tr>\n",
              "      <th>2</th>\n",
              "      <td>[очередной, лохотрон, зачем, придумывать, очер...</td>\n",
              "      <td>0</td>\n",
              "      <td>[283911, 200367, 141519, 337022, 283911, 23006...</td>\n",
              "      <td>54</td>\n",
              "    </tr>\n",
              "    <tr>\n",
              "      <th>3</th>\n",
              "      <td>[ретро, дежавю, сложно, понять, чужое, сердце,...</td>\n",
              "      <td>0</td>\n",
              "      <td>[376265, 103570, 403163, 320447, 482630, 39450...</td>\n",
              "      <td>10</td>\n",
              "    </tr>\n",
              "    <tr>\n",
              "      <th>4</th>\n",
              "      <td>[а, когда, мы, статус, агрогородка, получили]</td>\n",
              "      <td>0</td>\n",
              "      <td>[14251, 173619, 223848, 418744, 500000, 318245]</td>\n",
              "      <td>6</td>\n",
              "    </tr>\n",
              "    <tr>\n",
              "      <th>...</th>\n",
              "      <td>...</td>\n",
              "      <td>...</td>\n",
              "      <td>...</td>\n",
              "      <td>...</td>\n",
              "    </tr>\n",
              "    <tr>\n",
              "      <th>248285</th>\n",
              "      <td>[правильно, вс, по, пять]</td>\n",
              "      <td>0</td>\n",
              "      <td>[329214, 72080, 302187, 358229]</td>\n",
              "      <td>4</td>\n",
              "    </tr>\n",
              "    <tr>\n",
              "      <th>248286</th>\n",
              "      <td>[банные, нубы, заходите, на, сервер, мой, ник,...</td>\n",
              "      <td>1</td>\n",
              "      <td>[31148, 500000, 141214, 225007, 394252, 218719...</td>\n",
              "      <td>23</td>\n",
              "    </tr>\n",
              "    <tr>\n",
              "      <th>248287</th>\n",
              "      <td>[а, у, меня, наверное, рекорд, в, году, в, учи...</td>\n",
              "      <td>0</td>\n",
              "      <td>[14251, 445396, 212183, 225834, 375182, 51199,...</td>\n",
              "      <td>30</td>\n",
              "    </tr>\n",
              "    <tr>\n",
              "      <th>248288</th>\n",
              "      <td>[спасибо, всем, большое]</td>\n",
              "      <td>0</td>\n",
              "      <td>[413939, 72355, 44075]</td>\n",
              "      <td>3</td>\n",
              "    </tr>\n",
              "    <tr>\n",
              "      <th>248289</th>\n",
              "      <td>[нельзя, ли, увеличить, хотя, бы, в, два, раза...</td>\n",
              "      <td>0</td>\n",
              "      <td>[241189, 196135, 446506, 473260, 50423, 51199,...</td>\n",
              "      <td>59</td>\n",
              "    </tr>\n",
              "  </tbody>\n",
              "</table>\n",
              "<p>248290 rows × 4 columns</p>\n",
              "</div>\n",
              "      <button class=\"colab-df-convert\" onclick=\"convertToInteractive('df-3ca903c6-bfe9-48b1-8b0b-f10f235165a9')\"\n",
              "              title=\"Convert this dataframe to an interactive table.\"\n",
              "              style=\"display:none;\">\n",
              "        \n",
              "  <svg xmlns=\"http://www.w3.org/2000/svg\" height=\"24px\"viewBox=\"0 0 24 24\"\n",
              "       width=\"24px\">\n",
              "    <path d=\"M0 0h24v24H0V0z\" fill=\"none\"/>\n",
              "    <path d=\"M18.56 5.44l.94 2.06.94-2.06 2.06-.94-2.06-.94-.94-2.06-.94 2.06-2.06.94zm-11 1L8.5 8.5l.94-2.06 2.06-.94-2.06-.94L8.5 2.5l-.94 2.06-2.06.94zm10 10l.94 2.06.94-2.06 2.06-.94-2.06-.94-.94-2.06-.94 2.06-2.06.94z\"/><path d=\"M17.41 7.96l-1.37-1.37c-.4-.4-.92-.59-1.43-.59-.52 0-1.04.2-1.43.59L10.3 9.45l-7.72 7.72c-.78.78-.78 2.05 0 2.83L4 21.41c.39.39.9.59 1.41.59.51 0 1.02-.2 1.41-.59l7.78-7.78 2.81-2.81c.8-.78.8-2.07 0-2.86zM5.41 20L4 18.59l7.72-7.72 1.47 1.35L5.41 20z\"/>\n",
              "  </svg>\n",
              "      </button>\n",
              "      \n",
              "  <style>\n",
              "    .colab-df-container {\n",
              "      display:flex;\n",
              "      flex-wrap:wrap;\n",
              "      gap: 12px;\n",
              "    }\n",
              "\n",
              "    .colab-df-convert {\n",
              "      background-color: #E8F0FE;\n",
              "      border: none;\n",
              "      border-radius: 50%;\n",
              "      cursor: pointer;\n",
              "      display: none;\n",
              "      fill: #1967D2;\n",
              "      height: 32px;\n",
              "      padding: 0 0 0 0;\n",
              "      width: 32px;\n",
              "    }\n",
              "\n",
              "    .colab-df-convert:hover {\n",
              "      background-color: #E2EBFA;\n",
              "      box-shadow: 0px 1px 2px rgba(60, 64, 67, 0.3), 0px 1px 3px 1px rgba(60, 64, 67, 0.15);\n",
              "      fill: #174EA6;\n",
              "    }\n",
              "\n",
              "    [theme=dark] .colab-df-convert {\n",
              "      background-color: #3B4455;\n",
              "      fill: #D2E3FC;\n",
              "    }\n",
              "\n",
              "    [theme=dark] .colab-df-convert:hover {\n",
              "      background-color: #434B5C;\n",
              "      box-shadow: 0px 1px 3px 1px rgba(0, 0, 0, 0.15);\n",
              "      filter: drop-shadow(0px 1px 2px rgba(0, 0, 0, 0.3));\n",
              "      fill: #FFFFFF;\n",
              "    }\n",
              "  </style>\n",
              "\n",
              "      <script>\n",
              "        const buttonEl =\n",
              "          document.querySelector('#df-3ca903c6-bfe9-48b1-8b0b-f10f235165a9 button.colab-df-convert');\n",
              "        buttonEl.style.display =\n",
              "          google.colab.kernel.accessAllowed ? 'block' : 'none';\n",
              "\n",
              "        async function convertToInteractive(key) {\n",
              "          const element = document.querySelector('#df-3ca903c6-bfe9-48b1-8b0b-f10f235165a9');\n",
              "          const dataTable =\n",
              "            await google.colab.kernel.invokeFunction('convertToInteractive',\n",
              "                                                     [key], {});\n",
              "          if (!dataTable) return;\n",
              "\n",
              "          const docLinkHtml = 'Like what you see? Visit the ' +\n",
              "            '<a target=\"_blank\" href=https://colab.research.google.com/notebooks/data_table.ipynb>data table notebook</a>'\n",
              "            + ' to learn more about interactive tables.';\n",
              "          element.innerHTML = '';\n",
              "          dataTable['output_type'] = 'display_data';\n",
              "          await google.colab.output.renderOutput(dataTable, element);\n",
              "          const docLink = document.createElement('div');\n",
              "          docLink.innerHTML = docLinkHtml;\n",
              "          element.appendChild(docLink);\n",
              "        }\n",
              "      </script>\n",
              "    </div>\n",
              "  </div>\n",
              "  "
            ]
          },
          "metadata": {},
          "execution_count": 26
        }
      ]
    },
    {
      "cell_type": "code",
      "metadata": {
        "colab": {
          "base_uri": "https://localhost:8080/"
        },
        "id": "pB9T6l6phOzD",
        "outputId": "603dc249-314c-43e6-9282-2ab6636df4fb"
      },
      "source": [
        "max_len = train_data['indexed_text_len'].max()\n",
        "max_len"
      ],
      "execution_count": 27,
      "outputs": [
        {
          "output_type": "execute_result",
          "data": {
            "text/plain": [
              "267"
            ]
          },
          "metadata": {},
          "execution_count": 27
        }
      ]
    },
    {
      "cell_type": "code",
      "source": [
        "train_data = train_data[train_data.indexed_text_len <= 200]"
      ],
      "metadata": {
        "id": "SlQd_c0i4ZuJ"
      },
      "execution_count": 28,
      "outputs": []
    },
    {
      "cell_type": "code",
      "metadata": {
        "colab": {
          "base_uri": "https://localhost:8080/",
          "height": 143
        },
        "id": "wvVeN8YN2Sz4",
        "outputId": "07b72114-73ea-468c-99ff-420dd81787d5"
      },
      "source": [
        "train_data.groupby('toxic').sum()"
      ],
      "execution_count": 29,
      "outputs": [
        {
          "output_type": "execute_result",
          "data": {
            "text/plain": [
              "       indexed_text_len\n",
              "toxic                  \n",
              "0               2540831\n",
              "1                601768"
            ],
            "text/html": [
              "\n",
              "  <div id=\"df-326d7a68-e90a-4598-9d43-9201669781f3\">\n",
              "    <div class=\"colab-df-container\">\n",
              "      <div>\n",
              "<style scoped>\n",
              "    .dataframe tbody tr th:only-of-type {\n",
              "        vertical-align: middle;\n",
              "    }\n",
              "\n",
              "    .dataframe tbody tr th {\n",
              "        vertical-align: top;\n",
              "    }\n",
              "\n",
              "    .dataframe thead th {\n",
              "        text-align: right;\n",
              "    }\n",
              "</style>\n",
              "<table border=\"1\" class=\"dataframe\">\n",
              "  <thead>\n",
              "    <tr style=\"text-align: right;\">\n",
              "      <th></th>\n",
              "      <th>indexed_text_len</th>\n",
              "    </tr>\n",
              "    <tr>\n",
              "      <th>toxic</th>\n",
              "      <th></th>\n",
              "    </tr>\n",
              "  </thead>\n",
              "  <tbody>\n",
              "    <tr>\n",
              "      <th>0</th>\n",
              "      <td>2540831</td>\n",
              "    </tr>\n",
              "    <tr>\n",
              "      <th>1</th>\n",
              "      <td>601768</td>\n",
              "    </tr>\n",
              "  </tbody>\n",
              "</table>\n",
              "</div>\n",
              "      <button class=\"colab-df-convert\" onclick=\"convertToInteractive('df-326d7a68-e90a-4598-9d43-9201669781f3')\"\n",
              "              title=\"Convert this dataframe to an interactive table.\"\n",
              "              style=\"display:none;\">\n",
              "        \n",
              "  <svg xmlns=\"http://www.w3.org/2000/svg\" height=\"24px\"viewBox=\"0 0 24 24\"\n",
              "       width=\"24px\">\n",
              "    <path d=\"M0 0h24v24H0V0z\" fill=\"none\"/>\n",
              "    <path d=\"M18.56 5.44l.94 2.06.94-2.06 2.06-.94-2.06-.94-.94-2.06-.94 2.06-2.06.94zm-11 1L8.5 8.5l.94-2.06 2.06-.94-2.06-.94L8.5 2.5l-.94 2.06-2.06.94zm10 10l.94 2.06.94-2.06 2.06-.94-2.06-.94-.94-2.06-.94 2.06-2.06.94z\"/><path d=\"M17.41 7.96l-1.37-1.37c-.4-.4-.92-.59-1.43-.59-.52 0-1.04.2-1.43.59L10.3 9.45l-7.72 7.72c-.78.78-.78 2.05 0 2.83L4 21.41c.39.39.9.59 1.41.59.51 0 1.02-.2 1.41-.59l7.78-7.78 2.81-2.81c.8-.78.8-2.07 0-2.86zM5.41 20L4 18.59l7.72-7.72 1.47 1.35L5.41 20z\"/>\n",
              "  </svg>\n",
              "      </button>\n",
              "      \n",
              "  <style>\n",
              "    .colab-df-container {\n",
              "      display:flex;\n",
              "      flex-wrap:wrap;\n",
              "      gap: 12px;\n",
              "    }\n",
              "\n",
              "    .colab-df-convert {\n",
              "      background-color: #E8F0FE;\n",
              "      border: none;\n",
              "      border-radius: 50%;\n",
              "      cursor: pointer;\n",
              "      display: none;\n",
              "      fill: #1967D2;\n",
              "      height: 32px;\n",
              "      padding: 0 0 0 0;\n",
              "      width: 32px;\n",
              "    }\n",
              "\n",
              "    .colab-df-convert:hover {\n",
              "      background-color: #E2EBFA;\n",
              "      box-shadow: 0px 1px 2px rgba(60, 64, 67, 0.3), 0px 1px 3px 1px rgba(60, 64, 67, 0.15);\n",
              "      fill: #174EA6;\n",
              "    }\n",
              "\n",
              "    [theme=dark] .colab-df-convert {\n",
              "      background-color: #3B4455;\n",
              "      fill: #D2E3FC;\n",
              "    }\n",
              "\n",
              "    [theme=dark] .colab-df-convert:hover {\n",
              "      background-color: #434B5C;\n",
              "      box-shadow: 0px 1px 3px 1px rgba(0, 0, 0, 0.15);\n",
              "      filter: drop-shadow(0px 1px 2px rgba(0, 0, 0, 0.3));\n",
              "      fill: #FFFFFF;\n",
              "    }\n",
              "  </style>\n",
              "\n",
              "      <script>\n",
              "        const buttonEl =\n",
              "          document.querySelector('#df-326d7a68-e90a-4598-9d43-9201669781f3 button.colab-df-convert');\n",
              "        buttonEl.style.display =\n",
              "          google.colab.kernel.accessAllowed ? 'block' : 'none';\n",
              "\n",
              "        async function convertToInteractive(key) {\n",
              "          const element = document.querySelector('#df-326d7a68-e90a-4598-9d43-9201669781f3');\n",
              "          const dataTable =\n",
              "            await google.colab.kernel.invokeFunction('convertToInteractive',\n",
              "                                                     [key], {});\n",
              "          if (!dataTable) return;\n",
              "\n",
              "          const docLinkHtml = 'Like what you see? Visit the ' +\n",
              "            '<a target=\"_blank\" href=https://colab.research.google.com/notebooks/data_table.ipynb>data table notebook</a>'\n",
              "            + ' to learn more about interactive tables.';\n",
              "          element.innerHTML = '';\n",
              "          dataTable['output_type'] = 'display_data';\n",
              "          await google.colab.output.renderOutput(dataTable, element);\n",
              "          const docLink = document.createElement('div');\n",
              "          docLink.innerHTML = docLinkHtml;\n",
              "          element.appendChild(docLink);\n",
              "        }\n",
              "      </script>\n",
              "    </div>\n",
              "  </div>\n",
              "  "
            ]
          },
          "metadata": {},
          "execution_count": 29
        }
      ]
    },
    {
      "cell_type": "code",
      "metadata": {
        "id": "Zvp0q3_bUZfS"
      },
      "source": [
        "X = train_data['indexed_text'].to_list()"
      ],
      "execution_count": 30,
      "outputs": []
    },
    {
      "cell_type": "code",
      "metadata": {
        "id": "kjRuzdMkXIY_"
      },
      "source": [
        "y = train_data[\"toxic\"].to_list()"
      ],
      "execution_count": 31,
      "outputs": []
    },
    {
      "cell_type": "code",
      "metadata": {
        "id": "KRgbGVPN2teU"
      },
      "source": [
        "X_train, X_test, y_train, y_test = sklearn.model_selection.train_test_split(X, y, test_size=0.1, random_state=66)"
      ],
      "execution_count": 32,
      "outputs": []
    },
    {
      "cell_type": "code",
      "metadata": {
        "id": "gcez_3OcO_yK"
      },
      "source": [
        "device = torch.device(\"cuda:0\" if torch.cuda.is_available else \"cpu\")"
      ],
      "execution_count": 33,
      "outputs": []
    },
    {
      "cell_type": "code",
      "metadata": {
        "id": "gu6DubrjMHjR"
      },
      "source": [
        "class TextClassifierNN(torch.nn.Module):\n",
        "    \"\"\"\n",
        "        Neural network model for the classification of text tonality\n",
        "    \"\"\"\n",
        "    def __init__(self, embedding_dim: int, gru_hidden_size: int, fc_hidden_size: int, output_size: int, navec) -> None:\n",
        "        \"\"\"\n",
        "        :param embedding_dim: embedding dim\n",
        "        :param gru_hidden_size: gru hidden size\n",
        "        :param fc_hidden_size: full connected hidden size\n",
        "        :param output_size: output size\n",
        "        :param navec: navec model\n",
        "        \"\"\"\n",
        "        super(TextClassifierNN, self).__init__()\n",
        "\n",
        "        self.relu = torch.nn.ReLU()\n",
        "\n",
        "        self.softmax = torch.nn.Softmax(dim=-1)\n",
        "\n",
        "        self.embedding = NavecEmbedding(navec)  # torch.nn.Embedding(input_size, embedding_dim)\n",
        "\n",
        "        #weights = torch.FloatTensor(model.vectors)\n",
        "        #self.embedding = torch.nn.Embedding.from_pretrained(weights)\n",
        "\n",
        "        self.conv1 = torch.nn.Conv1d(embedding_dim, 512, kernel_size=(5,), padding=2)\n",
        "        self.conv2 = torch.nn.Conv1d(512, 1024, kernel_size=(3,), padding=1)\n",
        "        self.conv3 = torch.nn.Conv1d(1024, 2048, kernel_size=(5,), padding=2)\n",
        "\n",
        "        self.gru = torch.nn.GRU(2048, gru_hidden_size, batch_first=True, num_layers=1)\n",
        "\n",
        "        self.fc1 = torch.nn.Linear(gru_hidden_size, fc_hidden_size)\n",
        "        \n",
        "        self.fc2 = torch.nn.Linear(fc_hidden_size, output_size)\n",
        "\n",
        "\n",
        "    def forward(self, x: torch.tensor) -> torch.tensor:\n",
        "        x = self.embedding(x)\n",
        "\n",
        "        x = x.permute((0, 2, 1))\n",
        "\n",
        "        x = self.conv1(x)\n",
        "\n",
        "        x = self.relu(x)\n",
        "\n",
        "        x = self.conv2(x)\n",
        "\n",
        "        x = self.relu(x)\n",
        "        \n",
        "        x = self.conv3(x)\n",
        "\n",
        "        x = self.relu(x)\n",
        "\n",
        "        x = x.permute((0, 2, 1))\n",
        "\n",
        "        x, _ = self.gru(x)\n",
        "\n",
        "        x, _ = x.max(dim=1)  # (batch_size, L, hidden_size)\n",
        "\n",
        "        x = self.fc1(x)\n",
        "\n",
        "        x = self.relu(x)\n",
        "        \n",
        "        x = self.fc2(x)\n",
        "\n",
        "        return x\n",
        "\n",
        "    def predict(self, x: torch.tensor) -> torch.tensor:\n",
        "        return self.softmax(self.forward(x))"
      ],
      "execution_count": 34,
      "outputs": []
    },
    {
      "cell_type": "code",
      "metadata": {
        "id": "kQJ_dEotP8hJ",
        "colab": {
          "base_uri": "https://localhost:8080/"
        },
        "outputId": "0ee27b52-451f-427a-b20a-94b197e83f16"
      },
      "source": [
        "Net = TextClassifierNN(300, 512, 256, 2, model)\n",
        "Net.to(device)\n",
        "\n",
        "loss = torch.nn.CrossEntropyLoss()"
      ],
      "execution_count": 35,
      "outputs": [
        {
          "output_type": "stream",
          "name": "stderr",
          "text": [
            "/usr/local/lib/python3.7/dist-packages/slovnet/model/emb.py:46: UserWarning: The given NumPy array is not writable, and PyTorch does not support non-writable tensors. This means writing to this tensor will result in undefined behavior. You may want to copy the array to protect its data or make it writable before converting it to a tensor. This type of warning will be suppressed for the rest of this program. (Triggered internally at  ../torch/csrc/utils/tensor_numpy.cpp:172.)\n",
            "  torch.from_numpy(navec.pq.indexes),\n"
          ]
        }
      ]
    },
    {
      "cell_type": "code",
      "metadata": {
        "id": "MwPpTcmwQVIw"
      },
      "source": [
        "optimizer = torch.optim.Adam(Net.parameters(), lr=1.0e-4)"
      ],
      "execution_count": 36,
      "outputs": []
    },
    {
      "cell_type": "code",
      "metadata": {
        "id": "3dhNc-4WPNfp"
      },
      "source": [
        "test_loss_history = []\n",
        "test_accuracy_history = []\n",
        "test_precision_history = []\n",
        "test_recall_history = []"
      ],
      "execution_count": 37,
      "outputs": []
    },
    {
      "cell_type": "code",
      "metadata": {
        "id": "QLFD3wGNPrcC"
      },
      "source": [
        "def to_torch(data):\n",
        "    return torch.nn.utils.rnn.pad_sequence([torch.from_numpy(x) for x in data], batch_first=True, padding_value=model.vocab.pad_id)\n",
        "\n",
        "X_train = to_torch(X_train)\n",
        "y_train = torch.as_tensor(y_train, dtype=torch.long)\n",
        "\n",
        "X_test = to_torch(X_test)\n",
        "y_test = torch.as_tensor(y_test, dtype=torch.long)"
      ],
      "execution_count": 38,
      "outputs": []
    },
    {
      "cell_type": "code",
      "source": [
        "y_train"
      ],
      "metadata": {
        "colab": {
          "base_uri": "https://localhost:8080/"
        },
        "id": "3-5CI6r858xK",
        "outputId": "7005a95e-34f2-4d26-857b-73853933bfd2"
      },
      "execution_count": 39,
      "outputs": [
        {
          "output_type": "execute_result",
          "data": {
            "text/plain": [
              "tensor([0, 0, 0,  ..., 0, 0, 1])"
            ]
          },
          "metadata": {},
          "execution_count": 39
        }
      ]
    },
    {
      "cell_type": "code",
      "metadata": {
        "colab": {
          "base_uri": "https://localhost:8080/"
        },
        "id": "XgkXLVWu1svH",
        "outputId": "26ad09ed-7dd0-42fc-86ff-15f6a8bb2ff1"
      },
      "source": [
        "Net.train()\n",
        "\n",
        "batch_size = 128*3\n",
        "test_batch_size = 128*3\n",
        "\n",
        "for epoch in range(5):\n",
        "    order = np.random.permutation(len(X_train))\n",
        "    torch.cuda.reset_peak_memory_stats()\n",
        "\n",
        "    train_loss = 0.0\n",
        "    train_accuracy = 0.0\n",
        "\n",
        "    for start_index in tqdm(range(0, len(X_train), batch_size)):\n",
        "        optimizer.zero_grad()\n",
        "\n",
        "        batch_indexes = order[start_index:start_index+batch_size]\n",
        "        X_batch = X_train[batch_indexes].to(device)\n",
        "        y_batch = y_train[batch_indexes].to(device)\n",
        "\n",
        "        preds = Net(X_batch) \n",
        "        loss_value = loss(preds, y_batch)\n",
        "\n",
        "        train_loss += loss_value.item() * X_batch.shape[0]\n",
        "        train_accuracy += (preds.argmax(dim=1) == y_batch).sum().item()\n",
        "\n",
        "        loss_value.backward()\n",
        "        optimizer.step()\n",
        "\n",
        "    train_loss /= len(X_train)\n",
        "    train_accuracy /= len(X_train)\n",
        "\n",
        "    print(f'cuda memory {torch.cuda.memory_stats()[\"allocated_bytes.all.peak\"] // (1024 * 1024)} MB')\n",
        "\n",
        "    with torch.no_grad():\n",
        "        torch.cuda.empty_cache()\n",
        "        torch.cuda.reset_peak_memory_stats()\n",
        "\n",
        "        tp, fp, fn, loss_test_value = 0, 0, 0, 0\n",
        "\n",
        "        for start_index in range(0, len(X_test), test_batch_size):\n",
        "\n",
        "            batch_indexes = slice(start_index,start_index+test_batch_size)\n",
        "            \n",
        "            X_batch = X_test[batch_indexes].to(device)\n",
        "            y_batch = y_test[batch_indexes].to(device)\n",
        "\n",
        "            test_preds = Net(X_batch)\n",
        "\n",
        "            loss_test_value += loss(test_preds, y_batch).item() * X_batch.shape[0]\n",
        "\n",
        "            true_preds = test_preds.argmax(dim=1) == y_batch\n",
        "            tp += torch.logical_and(true_preds, y_batch != 0).int().sum().item()\n",
        "            fn += torch.logical_and(torch.logical_not(true_preds), y_batch != 0).int().sum().item()\n",
        "            fp += torch.logical_and(torch.logical_not(true_preds), y_batch == 0).int().sum().item()\n",
        "\n",
        "        tn = len(X_test) - tp - fp - fn\n",
        "\n",
        "        precision = tp / max(tp + fp, 1)\n",
        "        recall = tp / max(tp + fn, 1)\n",
        "        accuracy = (tp + tn) / len(X_test)\n",
        "\n",
        "        loss_test_value /= len(X_test)\n",
        "\n",
        "        test_precision_history.append(precision)\n",
        "        test_recall_history.append(recall)\n",
        "        test_accuracy_history.append(accuracy)\n",
        "        test_loss_history.append(loss_test_value)\n",
        "\n",
        "        print(f\"epoch {epoch+1}; train loss {train_loss}; train accuracy {train_accuracy}; test loss {loss_test_value}; test accuracy {accuracy}; test precision {precision}; test recall {recall}\")\n",
        "    print(f'cuda memory {torch.cuda.memory_stats()[\"allocated_bytes.all.peak\"] // (1024 * 1024)} MB')\n",
        "        \n",
        "torch.save(Net.state_dict(),\"TextTonalityClassifier.nn\")"
      ],
      "execution_count": 40,
      "outputs": [
        {
          "output_type": "stream",
          "name": "stderr",
          "text": [
            "100%|██████████| 582/582 [15:07<00:00,  1.56s/it]\n"
          ]
        },
        {
          "output_type": "stream",
          "name": "stdout",
          "text": [
            "cuda memory 5494 MB\n",
            "epoch 1; train loss 0.21296087288526394; train accuracy 0.9131742288294497; test loss 0.16171298537971537; test accuracy 0.934874541866366; test precision 0.8215405284370801; test recall 0.8173312541768768\n",
            "cuda memory 2929 MB\n"
          ]
        },
        {
          "output_type": "stream",
          "name": "stderr",
          "text": [
            "100%|██████████| 582/582 [15:07<00:00,  1.56s/it]\n"
          ]
        },
        {
          "output_type": "stream",
          "name": "stdout",
          "text": [
            "cuda memory 5494 MB\n",
            "epoch 2; train loss 0.14013083194350684; train accuracy 0.9427769747470454; test loss 0.13760552957394134; test accuracy 0.9453461677876677; test precision 0.9027777777777778; test recall 0.7819113388282468\n",
            "cuda memory 2929 MB\n"
          ]
        },
        {
          "output_type": "stream",
          "name": "stderr",
          "text": [
            "100%|██████████| 582/582 [15:06<00:00,  1.56s/it]\n"
          ]
        },
        {
          "output_type": "stream",
          "name": "stdout",
          "text": [
            "cuda memory 5494 MB\n",
            "epoch 3; train loss 0.12345948395022577; train accuracy 0.9500937532164737; test loss 0.1333488724896832; test accuracy 0.9463933303797978; test precision 0.9082213029989659; test recall 0.7825796391178437\n",
            "cuda memory 2929 MB\n"
          ]
        },
        {
          "output_type": "stream",
          "name": "stderr",
          "text": [
            "100%|██████████| 582/582 [15:06<00:00,  1.56s/it]\n"
          ]
        },
        {
          "output_type": "stream",
          "name": "stdout",
          "text": [
            "cuda memory 5494 MB\n",
            "epoch 4; train loss 0.11174556121136568; train accuracy 0.9543092916373921; test loss 0.13597163904233678; test accuracy 0.9454669942406058; test precision 0.8685633670350341; test recall 0.8229004232568501\n",
            "cuda memory 2929 MB\n"
          ]
        },
        {
          "output_type": "stream",
          "name": "stderr",
          "text": [
            "100%|██████████| 582/582 [15:06<00:00,  1.56s/it]\n"
          ]
        },
        {
          "output_type": "stream",
          "name": "stdout",
          "text": [
            "cuda memory 5494 MB\n",
            "epoch 5; train loss 0.10206760063193483; train accuracy 0.9582921251773256; test loss 0.135995701637163; test accuracy 0.9474807684562407; test precision 0.9174311926605505; test recall 0.7796836711962575\n",
            "cuda memory 2929 MB\n"
          ]
        }
      ]
    },
    {
      "cell_type": "code",
      "metadata": {
        "id": "gBH99gRE7uGY",
        "colab": {
          "base_uri": "https://localhost:8080/",
          "height": 282
        },
        "outputId": "8428cf3d-81f6-4766-878f-5ffca2ddc567"
      },
      "source": [
        "plt.plot(test_loss_history, label='loss')"
      ],
      "execution_count": 41,
      "outputs": [
        {
          "output_type": "execute_result",
          "data": {
            "text/plain": [
              "[<matplotlib.lines.Line2D at 0x7fed3a7e5ad0>]"
            ]
          },
          "metadata": {},
          "execution_count": 41
        },
        {
          "output_type": "display_data",
          "data": {
            "text/plain": [
              "<Figure size 432x288 with 1 Axes>"
            ],
            "image/png": "[encoded data removed]"
          },
          "metadata": {
            "needs_background": "light"
          }
        }
      ]
    },
    {
      "cell_type": "code",
      "metadata": {
        "id": "DTxwI6Dv_RR3",
        "colab": {
          "base_uri": "https://localhost:8080/",
          "height": 265
        },
        "outputId": "d335cdd3-9d65-46ce-ffc3-3bff743465fd"
      },
      "source": [
        "plt.plot(test_accuracy_history, label='accuracy')\n",
        "plt.plot(test_precision_history, label='precision')\n",
        "plt.plot(test_recall_history, label='recall')\n",
        "plt.legend()\n",
        "plt.show()  "
      ],
      "execution_count": 42,
      "outputs": [
        {
          "output_type": "display_data",
          "data": {
            "text/plain": [
              "<Figure size 432x288 with 1 Axes>"
            ],
            "image/png": "[encoded data removed]"
          },
          "metadata": {
            "needs_background": "light"
          }
        }
      ]
    },
    {
      "cell_type": "code",
      "source": [
        "Net.eval()\n",
        "threshold = 0.7\n",
        "\n",
        "with torch.no_grad():\n",
        "    torch.cuda.empty_cache()\n",
        "    torch.cuda.reset_peak_memory_stats()\n",
        "\n",
        "    tp, fp, fn, loss_test_value = 0, 0, 0, 0\n",
        "\n",
        "    for start_index in range(0, len(X_test), test_batch_size):\n",
        "\n",
        "        batch_indexes = slice(start_index,start_index+test_batch_size)\n",
        "        \n",
        "        X_batch = X_test[batch_indexes].to(device)\n",
        "        y_batch = y_test[batch_indexes].to(device)\n",
        "\n",
        "        test_preds = Net.predict(X_batch)\n",
        "\n",
        "        true_preds = (test_preds[..., 1] >= threshold) == y_batch\n",
        "        tp += torch.logical_and(true_preds, y_batch != 0).int().sum().item()\n",
        "        fn += torch.logical_and(torch.logical_not(true_preds), y_batch != 0).int().sum().item()\n",
        "        fp += torch.logical_and(torch.logical_not(true_preds), y_batch == 0).int().sum().item()\n",
        "\n",
        "    tn = len(X_test) - tp - fp - fn\n",
        "\n",
        "    precision = tp / max(tp + fp, 1)\n",
        "    recall = tp / max(tp + fn, 1)\n",
        "    accuracy = (tp + tn) / len(X_test)\n",
        "\n",
        "    print(f\"test accuracy {accuracy}; test precision {precision}; test recall {recall}\")\n"
      ],
      "metadata": {
        "colab": {
          "base_uri": "https://localhost:8080/"
        },
        "id": "GLL4Qeww9Xws",
        "outputId": "b4e27656-4aae-42cc-9ed5-57b3baa29727"
      },
      "execution_count": 43,
      "outputs": [
        {
          "output_type": "stream",
          "name": "stdout",
          "text": [
            "test accuracy 0.9429699142132184; test precision 0.9574278058946115; test recall 0.7164179104477612\n"
          ]
        }
      ]
    },
    {
      "cell_type": "code",
      "metadata": {
        "id": "xGtyCpuesCeo",
        "colab": {
          "base_uri": "https://localhost:8080/"
        },
        "outputId": "7c7c627c-2f13-46f3-c5ac-e925b9e9ef9d"
      },
      "source": [
        "!nvidia-smi"
      ],
      "execution_count": 44,
      "outputs": [
        {
          "output_type": "stream",
          "name": "stdout",
          "text": [
            "Wed Jul 27 11:40:42 2022       \n",
            "+-----------------------------------------------------------------------------+\n",
            "| NVIDIA-SMI 460.32.03    Driver Version: 460.32.03    CUDA Version: 11.2     |\n",
            "|-------------------------------+----------------------+----------------------+\n",
            "| GPU  Name        Persistence-M| Bus-Id        Disp.A | Volatile Uncorr. ECC |\n",
            "| Fan  Temp  Perf  Pwr:Usage/Cap|         Memory-Usage | GPU-Util  Compute M. |\n",
            "|                               |                      |               MIG M. |\n",
            "|===============================+======================+======================|\n",
            "|   0  Tesla T4            Off  | 00000000:00:04.0 Off |                    0 |\n",
            "| N/A   76C    P0    40W /  70W |   5288MiB / 15109MiB |     47%      Default |\n",
            "|                               |                      |                  N/A |\n",
            "+-------------------------------+----------------------+----------------------+\n",
            "                                                                               \n",
            "+-----------------------------------------------------------------------------+\n",
            "| Processes:                                                                  |\n",
            "|  GPU   GI   CI        PID   Type   Process name                  GPU Memory |\n",
            "|        ID   ID                                                   Usage      |\n",
            "|=============================================================================|\n",
            "+-----------------------------------------------------------------------------+\n"
          ]
        }
      ]
    },
    {
      "cell_type": "code",
      "source": [
        ""
      ],
      "metadata": {
        "id": "NwClYMrg5ny3"
      },
      "execution_count": 44,
      "outputs": []
    }
  ]
}