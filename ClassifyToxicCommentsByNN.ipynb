{
  "nbformat": 4,
  "nbformat_minor": 0,
  "metadata": {
    "colab": {
      "name": "ClassifyToxicCommentsByNN.ipynb",
      "provenance": [],
      "collapsed_sections": []
    },
    "kernelspec": {
      "name": "python3",
      "display_name": "Python 3"
    },
    "language_info": {
      "name": "python"
    },
    "accelerator": "GPU"
  },
  "cells": [
    {
      "cell_type": "code",
      "metadata": {
        "id": "zPhSGpqkSWC3",
        "colab": {
          "base_uri": "https://localhost:8080/"
        },
        "outputId": "4cf80696-fff1-4b99-d615-6a9f4c83a087"
      },
      "source": [
        "from google.colab import drive\n",
        "drive.mount('/content/drive')"
      ],
      "execution_count": 47,
      "outputs": [
        {
          "output_type": "stream",
          "name": "stdout",
          "text": [
            "Drive already mounted at /content/drive; to attempt to forcibly remount, call drive.mount(\"/content/drive\", force_remount=True).\n"
          ]
        }
      ]
    },
    {
      "cell_type": "code",
      "metadata": {
        "id": "wrOOYG3PGV5a"
      },
      "source": [
        "!wget https://storage.yandexcloud.net/natasha-navec/packs/navec_hudlit_v1_12B_500K_300d_100q.tar "
      ],
      "execution_count": 48,
      "outputs": []
    },
    {
      "cell_type": "code",
      "metadata": {
        "id": "DqhBSgfsFWUO",
        "colab": {
          "base_uri": "https://localhost:8080/"
        },
        "outputId": "a49816f1-5732-4736-f3ae-ac4632b93cb4"
      },
      "source": [
        "!pip install navec"
      ],
      "execution_count": 49,
      "outputs": [
        {
          "output_type": "stream",
          "name": "stdout",
          "text": [
            "Requirement already satisfied: navec in /usr/local/lib/python3.7/dist-packages (0.10.0)\n",
            "Requirement already satisfied: numpy in /usr/local/lib/python3.7/dist-packages (from navec) (1.19.5)\n"
          ]
        }
      ]
    },
    {
      "cell_type": "code",
      "metadata": {
        "id": "PMO0BpZ4Gow4",
        "colab": {
          "base_uri": "https://localhost:8080/"
        },
        "outputId": "48148c5f-f8ed-41c4-e3ea-714f7ccc9e72"
      },
      "source": [
        "!pip install slovnet"
      ],
      "execution_count": 50,
      "outputs": [
        {
          "output_type": "stream",
          "name": "stdout",
          "text": [
            "Requirement already satisfied: slovnet in /usr/local/lib/python3.7/dist-packages (0.5.0)\n",
            "Requirement already satisfied: navec in /usr/local/lib/python3.7/dist-packages (from slovnet) (0.10.0)\n",
            "Requirement already satisfied: razdel in /usr/local/lib/python3.7/dist-packages (from slovnet) (0.5.0)\n",
            "Requirement already satisfied: numpy in /usr/local/lib/python3.7/dist-packages (from slovnet) (1.19.5)\n"
          ]
        }
      ]
    },
    {
      "cell_type": "code",
      "metadata": {
        "id": "MncqkwmQE2rC"
      },
      "source": [
        "import pandas as pd\n",
        "\n",
        "import numpy as np\n",
        "import sklearn"
      ],
      "execution_count": 51,
      "outputs": []
    },
    {
      "cell_type": "code",
      "metadata": {
        "id": "EdAgoBy_IOys"
      },
      "source": [
        "from nltk.tokenize import WordPunctTokenizer\n",
        "from gensim.models import Word2Vec\n",
        "\n",
        "from navec import Navec"
      ],
      "execution_count": 52,
      "outputs": []
    },
    {
      "cell_type": "code",
      "metadata": {
        "id": "JDY0Ct8aLrmS"
      },
      "source": [
        "import torch\n",
        "from slovnet.model.emb import NavecEmbedding"
      ],
      "execution_count": 53,
      "outputs": []
    },
    {
      "cell_type": "code",
      "metadata": {
        "id": "nC7v1e_8Skpc"
      },
      "source": [
        "import matplotlib.pyplot as plt\n",
        "%matplotlib inline"
      ],
      "execution_count": 54,
      "outputs": []
    },
    {
      "cell_type": "code",
      "metadata": {
        "id": "9OPrUr1NUARX"
      },
      "source": [
        "def clear_text(text: str):\n",
        "  bad_symbols = [\",\", \"!\", \":\", \"/\", \".\", \"|\", \"(\", \")\", \"-\", \"_\", \"?\",\";\"]\n",
        "  clear_text = ''\n",
        "\n",
        "  for symbol in text:\n",
        "    if symbol not in bad_symbols:\n",
        "      clear_text += symbol\n",
        "  return clear_text"
      ],
      "execution_count": 55,
      "outputs": []
    },
    {
      "cell_type": "code",
      "metadata": {
        "id": "Kn2OWKzLc-dY"
      },
      "source": [
        "def add_zero_indexes(ind, max_text_ind_len):\n",
        "    if len(ind) < max_text_ind_len:\n",
        "        z_arr = np.zeros((max_text_ind_len - len(ind)),dtype=np.int64).T\n",
        "        ind = np.concatenate((ind,z_arr),axis=0)\n",
        "    return ind"
      ],
      "execution_count": 56,
      "outputs": []
    },
    {
      "cell_type": "code",
      "metadata": {
        "id": "0CoysxolEzNa"
      },
      "source": [
        "def bin2classes(x:int):\n",
        "    return np.array([0,1]) if x == 1 else np.array([1,0])\n",
        "def classes2bin(x):\n",
        "    return 0 if x == [1,0] else 1"
      ],
      "execution_count": 57,
      "outputs": []
    },
    {
      "cell_type": "code",
      "metadata": {
        "id": "tg-9zKyXzCmd"
      },
      "source": [
        "def get_text_indexes(words: str, word_model):\n",
        "    indexes = []\n",
        "\n",
        "    for word in words:\n",
        "        try:\n",
        "          indexes.append(word_model.vocab[word])\n",
        "        except KeyError:\n",
        "          indexes.append(0)\n",
        "\n",
        "    return np.array(indexes, dtype=np.int64)"
      ],
      "execution_count": 58,
      "outputs": []
    },
    {
      "cell_type": "code",
      "metadata": {
        "id": "S1I-xkl3GAwA"
      },
      "source": [
        "model = Navec.load(\"navec_hudlit_v1_12B_500K_300d_100q.tar\")"
      ],
      "execution_count": 59,
      "outputs": []
    },
    {
      "cell_type": "code",
      "metadata": {
        "id": "S2GsQIH3GAb-"
      },
      "source": [
        "train_data = pd.read_csv(\"/content/drive/MyDrive/Datasets/ToxicComments/labeled.csv\")"
      ],
      "execution_count": 60,
      "outputs": []
    },
    {
      "cell_type": "code",
      "metadata": {
        "id": "8xrGcwHhmSCw"
      },
      "source": [
        "tokenizer = WordPunctTokenizer()"
      ],
      "execution_count": 61,
      "outputs": []
    },
    {
      "cell_type": "code",
      "metadata": {
        "id": "q22hFqX0jdwE"
      },
      "source": [
        "train_data = train_data.sort_values(by=[\"comment\"], key=lambda x: x.str.len())"
      ],
      "execution_count": 62,
      "outputs": []
    },
    {
      "cell_type": "code",
      "metadata": {
        "id": "wciWzQvwmnkU"
      },
      "source": [
        "train_data[\"comment\"] = train_data[\"comment\"].apply(lambda x: tokenizer.tokenize(x.lower()))"
      ],
      "execution_count": 63,
      "outputs": []
    },
    {
      "cell_type": "code",
      "metadata": {
        "id": "wtMDvHmVG5fj"
      },
      "source": [
        "#train_data[\"toxic\"] = train_data[\"toxic\"].apply(lambda x: bin2classes(x))"
      ],
      "execution_count": 64,
      "outputs": []
    },
    {
      "cell_type": "code",
      "metadata": {
        "id": "JiU97olpnFwW",
        "colab": {
          "base_uri": "https://localhost:8080/",
          "height": 417
        },
        "outputId": "6a8ff2cf-0270-4c17-d54c-715e4285265f"
      },
      "source": [
        "train_data"
      ],
      "execution_count": 65,
      "outputs": [
        {
          "output_type": "execute_result",
          "data": {
            "text/html": [
              "<div>\n",
              "<style scoped>\n",
              "    .dataframe tbody tr th:only-of-type {\n",
              "        vertical-align: middle;\n",
              "    }\n",
              "\n",
              "    .dataframe tbody tr th {\n",
              "        vertical-align: top;\n",
              "    }\n",
              "\n",
              "    .dataframe thead th {\n",
              "        text-align: right;\n",
              "    }\n",
              "</style>\n",
              "<table border=\"1\" class=\"dataframe\">\n",
              "  <thead>\n",
              "    <tr style=\"text-align: right;\">\n",
              "      <th></th>\n",
              "      <th>comment</th>\n",
              "      <th>toxic</th>\n",
              "    </tr>\n",
              "  </thead>\n",
              "  <tbody>\n",
              "    <tr>\n",
              "      <th>1595</th>\n",
              "      <td>[я, бы, тармашева, забрал]</td>\n",
              "      <td>0.0</td>\n",
              "    </tr>\n",
              "    <tr>\n",
              "      <th>1893</th>\n",
              "      <td>[бауманка, астанавитесь]</td>\n",
              "      <td>0.0</td>\n",
              "    </tr>\n",
              "    <tr>\n",
              "      <th>1737</th>\n",
              "      <td>[папич, лучший, на, трипл]</td>\n",
              "      <td>1.0</td>\n",
              "    </tr>\n",
              "    <tr>\n",
              "      <th>1388</th>\n",
              "      <td>[малышь, (, подвегаеться, )]</td>\n",
              "      <td>0.0</td>\n",
              "    </tr>\n",
              "    <tr>\n",
              "      <th>1855</th>\n",
              "      <td>[не, читай, так, больше, ))]</td>\n",
              "      <td>0.0</td>\n",
              "    </tr>\n",
              "    <tr>\n",
              "      <th>...</th>\n",
              "      <td>...</td>\n",
              "      <td>...</td>\n",
              "    </tr>\n",
              "    <tr>\n",
              "      <th>13688</th>\n",
              "      <td>[агентство, darpa, в, 2020, году, планирует, н...</td>\n",
              "      <td>0.0</td>\n",
              "    </tr>\n",
              "    <tr>\n",
              "      <th>1953</th>\n",
              "      <td>[в, киеве, на, вокзале, мен, було, рок, в, 19,...</td>\n",
              "      <td>1.0</td>\n",
              "    </tr>\n",
              "    <tr>\n",
              "      <th>5795</th>\n",
              "      <td>[с, 19, апреля, в, николаеве, будет, действова...</td>\n",
              "      <td>0.0</td>\n",
              "    </tr>\n",
              "    <tr>\n",
              "      <th>3016</th>\n",
              "      <td>[блеаадь, ,, как, же, обидно, когда, создаешь,...</td>\n",
              "      <td>1.0</td>\n",
              "    </tr>\n",
              "    <tr>\n",
              "      <th>2064</th>\n",
              "      <td>[с, начала, года, свыше, 40, тысяч, россиян, о...</td>\n",
              "      <td>0.0</td>\n",
              "    </tr>\n",
              "  </tbody>\n",
              "</table>\n",
              "<p>14412 rows × 2 columns</p>\n",
              "</div>"
            ],
            "text/plain": [
              "                                                 comment  toxic\n",
              "1595                          [я, бы, тармашева, забрал]    0.0\n",
              "1893                            [бауманка, астанавитесь]    0.0\n",
              "1737                          [папич, лучший, на, трипл]    1.0\n",
              "1388                        [малышь, (, подвегаеться, )]    0.0\n",
              "1855                        [не, читай, так, больше, ))]    0.0\n",
              "...                                                  ...    ...\n",
              "13688  [агентство, darpa, в, 2020, году, планирует, н...    0.0\n",
              "1953   [в, киеве, на, вокзале, мен, було, рок, в, 19,...    1.0\n",
              "5795   [с, 19, апреля, в, николаеве, будет, действова...    0.0\n",
              "3016   [блеаадь, ,, как, же, обидно, когда, создаешь,...    1.0\n",
              "2064   [с, начала, года, свыше, 40, тысяч, россиян, о...    0.0\n",
              "\n",
              "[14412 rows x 2 columns]"
            ]
          },
          "metadata": {},
          "execution_count": 65
        }
      ]
    },
    {
      "cell_type": "code",
      "metadata": {
        "id": "PzaQe9UKggqT"
      },
      "source": [
        "train_data['indexed_text'] = train_data['comment'].apply(lambda x: get_text_indexes(x,model))"
      ],
      "execution_count": 66,
      "outputs": []
    },
    {
      "cell_type": "code",
      "metadata": {
        "id": "JQ_h6pk5itf4",
        "colab": {
          "base_uri": "https://localhost:8080/",
          "height": 203
        },
        "outputId": "3c4a514a-fbd0-42c7-978f-fe958dce7030"
      },
      "source": [
        "train_data.head()"
      ],
      "execution_count": 67,
      "outputs": [
        {
          "output_type": "execute_result",
          "data": {
            "text/html": [
              "<div>\n",
              "<style scoped>\n",
              "    .dataframe tbody tr th:only-of-type {\n",
              "        vertical-align: middle;\n",
              "    }\n",
              "\n",
              "    .dataframe tbody tr th {\n",
              "        vertical-align: top;\n",
              "    }\n",
              "\n",
              "    .dataframe thead th {\n",
              "        text-align: right;\n",
              "    }\n",
              "</style>\n",
              "<table border=\"1\" class=\"dataframe\">\n",
              "  <thead>\n",
              "    <tr style=\"text-align: right;\">\n",
              "      <th></th>\n",
              "      <th>comment</th>\n",
              "      <th>toxic</th>\n",
              "      <th>indexed_text</th>\n",
              "    </tr>\n",
              "  </thead>\n",
              "  <tbody>\n",
              "    <tr>\n",
              "      <th>1595</th>\n",
              "      <td>[я, бы, тармашева, забрал]</td>\n",
              "      <td>0.0</td>\n",
              "      <td>[497765, 50423, 0, 126272]</td>\n",
              "    </tr>\n",
              "    <tr>\n",
              "      <th>1893</th>\n",
              "      <td>[бауманка, астанавитесь]</td>\n",
              "      <td>0.0</td>\n",
              "      <td>[0, 0]</td>\n",
              "    </tr>\n",
              "    <tr>\n",
              "      <th>1737</th>\n",
              "      <td>[папич, лучший, на, трипл]</td>\n",
              "      <td>1.0</td>\n",
              "      <td>[0, 201294, 225007, 0]</td>\n",
              "    </tr>\n",
              "    <tr>\n",
              "      <th>1388</th>\n",
              "      <td>[малышь, (, подвегаеться, )]</td>\n",
              "      <td>0.0</td>\n",
              "      <td>[0, 0, 0, 0]</td>\n",
              "    </tr>\n",
              "    <tr>\n",
              "      <th>1855</th>\n",
              "      <td>[не, читай, так, больше, ))]</td>\n",
              "      <td>0.0</td>\n",
              "      <td>[236483, 481511, 428858, 43995, 0]</td>\n",
              "    </tr>\n",
              "  </tbody>\n",
              "</table>\n",
              "</div>"
            ],
            "text/plain": [
              "                           comment  toxic                        indexed_text\n",
              "1595    [я, бы, тармашева, забрал]    0.0          [497765, 50423, 0, 126272]\n",
              "1893      [бауманка, астанавитесь]    0.0                              [0, 0]\n",
              "1737    [папич, лучший, на, трипл]    1.0              [0, 201294, 225007, 0]\n",
              "1388  [малышь, (, подвегаеться, )]    0.0                        [0, 0, 0, 0]\n",
              "1855  [не, читай, так, больше, ))]    0.0  [236483, 481511, 428858, 43995, 0]"
            ]
          },
          "metadata": {},
          "execution_count": 67
        }
      ]
    },
    {
      "cell_type": "code",
      "metadata": {
        "id": "9jGFUteEhBHp"
      },
      "source": [
        "train_data['indexed_text_len'] = train_data['indexed_text'].apply(lambda x: len(x))"
      ],
      "execution_count": 68,
      "outputs": []
    },
    {
      "cell_type": "code",
      "metadata": {
        "id": "6YRva7wSptGp",
        "colab": {
          "base_uri": "https://localhost:8080/",
          "height": 417
        },
        "outputId": "45d271b1-46f1-4c83-bdb2-d0137f40ad08"
      },
      "source": [
        "train_data"
      ],
      "execution_count": 69,
      "outputs": [
        {
          "output_type": "execute_result",
          "data": {
            "text/html": [
              "<div>\n",
              "<style scoped>\n",
              "    .dataframe tbody tr th:only-of-type {\n",
              "        vertical-align: middle;\n",
              "    }\n",
              "\n",
              "    .dataframe tbody tr th {\n",
              "        vertical-align: top;\n",
              "    }\n",
              "\n",
              "    .dataframe thead th {\n",
              "        text-align: right;\n",
              "    }\n",
              "</style>\n",
              "<table border=\"1\" class=\"dataframe\">\n",
              "  <thead>\n",
              "    <tr style=\"text-align: right;\">\n",
              "      <th></th>\n",
              "      <th>comment</th>\n",
              "      <th>toxic</th>\n",
              "      <th>indexed_text</th>\n",
              "      <th>indexed_text_len</th>\n",
              "    </tr>\n",
              "  </thead>\n",
              "  <tbody>\n",
              "    <tr>\n",
              "      <th>1595</th>\n",
              "      <td>[я, бы, тармашева, забрал]</td>\n",
              "      <td>0.0</td>\n",
              "      <td>[497765, 50423, 0, 126272]</td>\n",
              "      <td>4</td>\n",
              "    </tr>\n",
              "    <tr>\n",
              "      <th>1893</th>\n",
              "      <td>[бауманка, астанавитесь]</td>\n",
              "      <td>0.0</td>\n",
              "      <td>[0, 0]</td>\n",
              "      <td>2</td>\n",
              "    </tr>\n",
              "    <tr>\n",
              "      <th>1737</th>\n",
              "      <td>[папич, лучший, на, трипл]</td>\n",
              "      <td>1.0</td>\n",
              "      <td>[0, 201294, 225007, 0]</td>\n",
              "      <td>4</td>\n",
              "    </tr>\n",
              "    <tr>\n",
              "      <th>1388</th>\n",
              "      <td>[малышь, (, подвегаеться, )]</td>\n",
              "      <td>0.0</td>\n",
              "      <td>[0, 0, 0, 0]</td>\n",
              "      <td>4</td>\n",
              "    </tr>\n",
              "    <tr>\n",
              "      <th>1855</th>\n",
              "      <td>[не, читай, так, больше, ))]</td>\n",
              "      <td>0.0</td>\n",
              "      <td>[236483, 481511, 428858, 43995, 0]</td>\n",
              "      <td>5</td>\n",
              "    </tr>\n",
              "    <tr>\n",
              "      <th>...</th>\n",
              "      <td>...</td>\n",
              "      <td>...</td>\n",
              "      <td>...</td>\n",
              "      <td>...</td>\n",
              "    </tr>\n",
              "    <tr>\n",
              "      <th>13688</th>\n",
              "      <td>[агентство, darpa, в, 2020, году, планирует, н...</td>\n",
              "      <td>0.0</td>\n",
              "      <td>[16206, 3016, 51199, 0, 91885, 300229, 235924,...</td>\n",
              "      <td>716</td>\n",
              "    </tr>\n",
              "    <tr>\n",
              "      <th>1953</th>\n",
              "      <td>[в, киеве, на, вокзале, мен, було, рок, в, 19,...</td>\n",
              "      <td>1.0</td>\n",
              "      <td>[51199, 169208, 225007, 67265, 211842, 49031, ...</td>\n",
              "      <td>1207</td>\n",
              "    </tr>\n",
              "    <tr>\n",
              "      <th>5795</th>\n",
              "      <td>[с, 19, апреля, в, николаеве, будет, действова...</td>\n",
              "      <td>0.0</td>\n",
              "      <td>[383451, 0, 24273, 51199, 249193, 48454, 10389...</td>\n",
              "      <td>882</td>\n",
              "    </tr>\n",
              "    <tr>\n",
              "      <th>3016</th>\n",
              "      <td>[блеаадь, ,, как, же, обидно, когда, создаешь,...</td>\n",
              "      <td>1.0</td>\n",
              "      <td>[0, 0, 161623, 122803, 254781, 173619, 408931,...</td>\n",
              "      <td>970</td>\n",
              "    </tr>\n",
              "    <tr>\n",
              "      <th>2064</th>\n",
              "      <td>[с, начала, года, свыше, 40, тысяч, россиян, о...</td>\n",
              "      <td>0.0</td>\n",
              "      <td>[383451, 235822, 91756, 390492, 0, 444338, 380...</td>\n",
              "      <td>1190</td>\n",
              "    </tr>\n",
              "  </tbody>\n",
              "</table>\n",
              "<p>14412 rows × 4 columns</p>\n",
              "</div>"
            ],
            "text/plain": [
              "                                                 comment  ...  indexed_text_len\n",
              "1595                          [я, бы, тармашева, забрал]  ...                 4\n",
              "1893                            [бауманка, астанавитесь]  ...                 2\n",
              "1737                          [папич, лучший, на, трипл]  ...                 4\n",
              "1388                        [малышь, (, подвегаеться, )]  ...                 4\n",
              "1855                        [не, читай, так, больше, ))]  ...                 5\n",
              "...                                                  ...  ...               ...\n",
              "13688  [агентство, darpa, в, 2020, году, планирует, н...  ...               716\n",
              "1953   [в, киеве, на, вокзале, мен, було, рок, в, 19,...  ...              1207\n",
              "5795   [с, 19, апреля, в, николаеве, будет, действова...  ...               882\n",
              "3016   [блеаадь, ,, как, же, обидно, когда, создаешь,...  ...               970\n",
              "2064   [с, начала, года, свыше, 40, тысяч, россиян, о...  ...              1190\n",
              "\n",
              "[14412 rows x 4 columns]"
            ]
          },
          "metadata": {},
          "execution_count": 69
        }
      ]
    },
    {
      "cell_type": "code",
      "metadata": {
        "id": "Ipyp4zTRl--2"
      },
      "source": [
        "train_data = train_data.iloc[:-20]"
      ],
      "execution_count": 70,
      "outputs": []
    },
    {
      "cell_type": "code",
      "metadata": {
        "id": "r9X57-Ilizvt",
        "colab": {
          "base_uri": "https://localhost:8080/",
          "height": 417
        },
        "outputId": "a5a2fbcd-ebfd-46a9-8b99-bd8eea772641"
      },
      "source": [
        "train_data"
      ],
      "execution_count": 71,
      "outputs": [
        {
          "output_type": "execute_result",
          "data": {
            "text/html": [
              "<div>\n",
              "<style scoped>\n",
              "    .dataframe tbody tr th:only-of-type {\n",
              "        vertical-align: middle;\n",
              "    }\n",
              "\n",
              "    .dataframe tbody tr th {\n",
              "        vertical-align: top;\n",
              "    }\n",
              "\n",
              "    .dataframe thead th {\n",
              "        text-align: right;\n",
              "    }\n",
              "</style>\n",
              "<table border=\"1\" class=\"dataframe\">\n",
              "  <thead>\n",
              "    <tr style=\"text-align: right;\">\n",
              "      <th></th>\n",
              "      <th>comment</th>\n",
              "      <th>toxic</th>\n",
              "      <th>indexed_text</th>\n",
              "      <th>indexed_text_len</th>\n",
              "    </tr>\n",
              "  </thead>\n",
              "  <tbody>\n",
              "    <tr>\n",
              "      <th>1595</th>\n",
              "      <td>[я, бы, тармашева, забрал]</td>\n",
              "      <td>0.0</td>\n",
              "      <td>[497765, 50423, 0, 126272]</td>\n",
              "      <td>4</td>\n",
              "    </tr>\n",
              "    <tr>\n",
              "      <th>1893</th>\n",
              "      <td>[бауманка, астанавитесь]</td>\n",
              "      <td>0.0</td>\n",
              "      <td>[0, 0]</td>\n",
              "      <td>2</td>\n",
              "    </tr>\n",
              "    <tr>\n",
              "      <th>1737</th>\n",
              "      <td>[папич, лучший, на, трипл]</td>\n",
              "      <td>1.0</td>\n",
              "      <td>[0, 201294, 225007, 0]</td>\n",
              "      <td>4</td>\n",
              "    </tr>\n",
              "    <tr>\n",
              "      <th>1388</th>\n",
              "      <td>[малышь, (, подвегаеться, )]</td>\n",
              "      <td>0.0</td>\n",
              "      <td>[0, 0, 0, 0]</td>\n",
              "      <td>4</td>\n",
              "    </tr>\n",
              "    <tr>\n",
              "      <th>1855</th>\n",
              "      <td>[не, читай, так, больше, ))]</td>\n",
              "      <td>0.0</td>\n",
              "      <td>[236483, 481511, 428858, 43995, 0]</td>\n",
              "      <td>5</td>\n",
              "    </tr>\n",
              "    <tr>\n",
              "      <th>...</th>\n",
              "      <td>...</td>\n",
              "      <td>...</td>\n",
              "      <td>...</td>\n",
              "      <td>...</td>\n",
              "    </tr>\n",
              "    <tr>\n",
              "      <th>303</th>\n",
              "      <td>[нглийские, ученые, из, центра, исследований, ...</td>\n",
              "      <td>0.0</td>\n",
              "      <td>[0, 459529, 147875, 476225, 158050, 389729, 0,...</td>\n",
              "      <td>415</td>\n",
              "    </tr>\n",
              "    <tr>\n",
              "      <th>77</th>\n",
              "      <td>[число, проституток, в, израиле, продолжает, р...</td>\n",
              "      <td>0.0</td>\n",
              "      <td>[481291, 351523, 51199, 150835, 346251, 370974...</td>\n",
              "      <td>491</td>\n",
              "    </tr>\n",
              "    <tr>\n",
              "      <th>35</th>\n",
              "      <td>[возьмём, как, пример, россию, ,, западноевроп...</td>\n",
              "      <td>0.0</td>\n",
              "      <td>[67022, 161623, 339099, 380170, 0, 135081, 421...</td>\n",
              "      <td>515</td>\n",
              "    </tr>\n",
              "    <tr>\n",
              "      <th>14164</th>\n",
              "      <td>[совместная, российско, -, американская, мисси...</td>\n",
              "      <td>0.0</td>\n",
              "      <td>[407766, 0, 0, 20927, 216442, 55713, 0, 99732,...</td>\n",
              "      <td>476</td>\n",
              "    </tr>\n",
              "    <tr>\n",
              "      <th>1819</th>\n",
              "      <td>[чаще, всего, агрессия, и, агрессивность, проя...</td>\n",
              "      <td>1.0</td>\n",
              "      <td>[478435, 72246, 16449, 146473, 16436, 354293, ...</td>\n",
              "      <td>505</td>\n",
              "    </tr>\n",
              "  </tbody>\n",
              "</table>\n",
              "<p>14392 rows × 4 columns</p>\n",
              "</div>"
            ],
            "text/plain": [
              "                                                 comment  ...  indexed_text_len\n",
              "1595                          [я, бы, тармашева, забрал]  ...                 4\n",
              "1893                            [бауманка, астанавитесь]  ...                 2\n",
              "1737                          [папич, лучший, на, трипл]  ...                 4\n",
              "1388                        [малышь, (, подвегаеться, )]  ...                 4\n",
              "1855                        [не, читай, так, больше, ))]  ...                 5\n",
              "...                                                  ...  ...               ...\n",
              "303    [нглийские, ученые, из, центра, исследований, ...  ...               415\n",
              "77     [число, проституток, в, израиле, продолжает, р...  ...               491\n",
              "35     [возьмём, как, пример, россию, ,, западноевроп...  ...               515\n",
              "14164  [совместная, российско, -, американская, мисси...  ...               476\n",
              "1819   [чаще, всего, агрессия, и, агрессивность, проя...  ...               505\n",
              "\n",
              "[14392 rows x 4 columns]"
            ]
          },
          "metadata": {},
          "execution_count": 71
        }
      ]
    },
    {
      "cell_type": "code",
      "metadata": {
        "id": "pB9T6l6phOzD",
        "colab": {
          "base_uri": "https://localhost:8080/"
        },
        "outputId": "0a243ca4-78ac-4f51-b44d-92811e1c66d8"
      },
      "source": [
        "max_len = train_data['indexed_text_len'].max()\n",
        "max_len"
      ],
      "execution_count": 72,
      "outputs": [
        {
          "output_type": "execute_result",
          "data": {
            "text/plain": [
              "524"
            ]
          },
          "metadata": {},
          "execution_count": 72
        }
      ]
    },
    {
      "cell_type": "code",
      "metadata": {
        "id": "4jPdU1cBkhr8",
        "colab": {
          "base_uri": "https://localhost:8080/"
        },
        "outputId": "81361818-0a8b-4cc5-e153-ab7e0f990bef"
      },
      "source": [
        "train_data[\"indexed_text\"] = train_data[\"indexed_text\"].apply(lambda x: add_zero_indexes(x, max_len))"
      ],
      "execution_count": 73,
      "outputs": [
        {
          "output_type": "stream",
          "name": "stderr",
          "text": [
            "/usr/local/lib/python3.7/dist-packages/ipykernel_launcher.py:1: SettingWithCopyWarning: \n",
            "A value is trying to be set on a copy of a slice from a DataFrame.\n",
            "Try using .loc[row_indexer,col_indexer] = value instead\n",
            "\n",
            "See the caveats in the documentation: https://pandas.pydata.org/pandas-docs/stable/user_guide/indexing.html#returning-a-view-versus-a-copy\n",
            "  \"\"\"Entry point for launching an IPython kernel.\n"
          ]
        }
      ]
    },
    {
      "cell_type": "code",
      "metadata": {
        "id": "wvVeN8YN2Sz4",
        "colab": {
          "base_uri": "https://localhost:8080/",
          "height": 417
        },
        "outputId": "b843faf0-f81f-4c22-cb56-e8d0de08db3f"
      },
      "source": [
        "train_data"
      ],
      "execution_count": 74,
      "outputs": [
        {
          "output_type": "execute_result",
          "data": {
            "text/html": [
              "<div>\n",
              "<style scoped>\n",
              "    .dataframe tbody tr th:only-of-type {\n",
              "        vertical-align: middle;\n",
              "    }\n",
              "\n",
              "    .dataframe tbody tr th {\n",
              "        vertical-align: top;\n",
              "    }\n",
              "\n",
              "    .dataframe thead th {\n",
              "        text-align: right;\n",
              "    }\n",
              "</style>\n",
              "<table border=\"1\" class=\"dataframe\">\n",
              "  <thead>\n",
              "    <tr style=\"text-align: right;\">\n",
              "      <th></th>\n",
              "      <th>comment</th>\n",
              "      <th>toxic</th>\n",
              "      <th>indexed_text</th>\n",
              "      <th>indexed_text_len</th>\n",
              "    </tr>\n",
              "  </thead>\n",
              "  <tbody>\n",
              "    <tr>\n",
              "      <th>1595</th>\n",
              "      <td>[я, бы, тармашева, забрал]</td>\n",
              "      <td>0.0</td>\n",
              "      <td>[497765, 50423, 0, 126272, 0, 0, 0, 0, 0, 0, 0...</td>\n",
              "      <td>4</td>\n",
              "    </tr>\n",
              "    <tr>\n",
              "      <th>1893</th>\n",
              "      <td>[бауманка, астанавитесь]</td>\n",
              "      <td>0.0</td>\n",
              "      <td>[0, 0, 0, 0, 0, 0, 0, 0, 0, 0, 0, 0, 0, 0, 0, ...</td>\n",
              "      <td>2</td>\n",
              "    </tr>\n",
              "    <tr>\n",
              "      <th>1737</th>\n",
              "      <td>[папич, лучший, на, трипл]</td>\n",
              "      <td>1.0</td>\n",
              "      <td>[0, 201294, 225007, 0, 0, 0, 0, 0, 0, 0, 0, 0,...</td>\n",
              "      <td>4</td>\n",
              "    </tr>\n",
              "    <tr>\n",
              "      <th>1388</th>\n",
              "      <td>[малышь, (, подвегаеться, )]</td>\n",
              "      <td>0.0</td>\n",
              "      <td>[0, 0, 0, 0, 0, 0, 0, 0, 0, 0, 0, 0, 0, 0, 0, ...</td>\n",
              "      <td>4</td>\n",
              "    </tr>\n",
              "    <tr>\n",
              "      <th>1855</th>\n",
              "      <td>[не, читай, так, больше, ))]</td>\n",
              "      <td>0.0</td>\n",
              "      <td>[236483, 481511, 428858, 43995, 0, 0, 0, 0, 0,...</td>\n",
              "      <td>5</td>\n",
              "    </tr>\n",
              "    <tr>\n",
              "      <th>...</th>\n",
              "      <td>...</td>\n",
              "      <td>...</td>\n",
              "      <td>...</td>\n",
              "      <td>...</td>\n",
              "    </tr>\n",
              "    <tr>\n",
              "      <th>303</th>\n",
              "      <td>[нглийские, ученые, из, центра, исследований, ...</td>\n",
              "      <td>0.0</td>\n",
              "      <td>[0, 459529, 147875, 476225, 158050, 389729, 0,...</td>\n",
              "      <td>415</td>\n",
              "    </tr>\n",
              "    <tr>\n",
              "      <th>77</th>\n",
              "      <td>[число, проституток, в, израиле, продолжает, р...</td>\n",
              "      <td>0.0</td>\n",
              "      <td>[481291, 351523, 51199, 150835, 346251, 370974...</td>\n",
              "      <td>491</td>\n",
              "    </tr>\n",
              "    <tr>\n",
              "      <th>35</th>\n",
              "      <td>[возьмём, как, пример, россию, ,, западноевроп...</td>\n",
              "      <td>0.0</td>\n",
              "      <td>[67022, 161623, 339099, 380170, 0, 135081, 421...</td>\n",
              "      <td>515</td>\n",
              "    </tr>\n",
              "    <tr>\n",
              "      <th>14164</th>\n",
              "      <td>[совместная, российско, -, американская, мисси...</td>\n",
              "      <td>0.0</td>\n",
              "      <td>[407766, 0, 0, 20927, 216442, 55713, 0, 99732,...</td>\n",
              "      <td>476</td>\n",
              "    </tr>\n",
              "    <tr>\n",
              "      <th>1819</th>\n",
              "      <td>[чаще, всего, агрессия, и, агрессивность, проя...</td>\n",
              "      <td>1.0</td>\n",
              "      <td>[478435, 72246, 16449, 146473, 16436, 354293, ...</td>\n",
              "      <td>505</td>\n",
              "    </tr>\n",
              "  </tbody>\n",
              "</table>\n",
              "<p>14392 rows × 4 columns</p>\n",
              "</div>"
            ],
            "text/plain": [
              "                                                 comment  ...  indexed_text_len\n",
              "1595                          [я, бы, тармашева, забрал]  ...                 4\n",
              "1893                            [бауманка, астанавитесь]  ...                 2\n",
              "1737                          [папич, лучший, на, трипл]  ...                 4\n",
              "1388                        [малышь, (, подвегаеться, )]  ...                 4\n",
              "1855                        [не, читай, так, больше, ))]  ...                 5\n",
              "...                                                  ...  ...               ...\n",
              "303    [нглийские, ученые, из, центра, исследований, ...  ...               415\n",
              "77     [число, проституток, в, израиле, продолжает, р...  ...               491\n",
              "35     [возьмём, как, пример, россию, ,, западноевроп...  ...               515\n",
              "14164  [совместная, российско, -, американская, мисси...  ...               476\n",
              "1819   [чаще, всего, агрессия, и, агрессивность, проя...  ...               505\n",
              "\n",
              "[14392 rows x 4 columns]"
            ]
          },
          "metadata": {},
          "execution_count": 74
        }
      ]
    },
    {
      "cell_type": "code",
      "metadata": {
        "id": "Zvp0q3_bUZfS"
      },
      "source": [
        "X = train_data['indexed_text'].to_list()"
      ],
      "execution_count": 75,
      "outputs": []
    },
    {
      "cell_type": "code",
      "metadata": {
        "id": "kjRuzdMkXIY_"
      },
      "source": [
        "y = train_data[\"toxic\"].to_list()"
      ],
      "execution_count": 76,
      "outputs": []
    },
    {
      "cell_type": "code",
      "metadata": {
        "id": "KRgbGVPN2teU"
      },
      "source": [
        "X_train, X_test, y_train, y_test = sklearn.model_selection.train_test_split(X, y, test_size=0.02, random_state=42)"
      ],
      "execution_count": 77,
      "outputs": []
    },
    {
      "cell_type": "code",
      "metadata": {
        "id": "kEvvd1q7VLnk"
      },
      "source": [
        "X = []"
      ],
      "execution_count": 78,
      "outputs": []
    },
    {
      "cell_type": "code",
      "metadata": {
        "id": "gcez_3OcO_yK"
      },
      "source": [
        "device = torch.device(\"cuda:0\" if torch.cuda.is_available else \"cpu\")"
      ],
      "execution_count": 79,
      "outputs": []
    },
    {
      "cell_type": "code",
      "metadata": {
        "id": "gu6DubrjMHjR"
      },
      "source": [
        "class TextClassifierNN(torch.nn.Module):\n",
        "\n",
        "    def __init__(self, embedding_dim, gru_hidden_size, fc_hidden_size, output_size, navec):\n",
        "        super(TextClassifierNN, self).__init__()\n",
        "\n",
        "        self.relu = torch.nn.ReLU()\n",
        "\n",
        "        self.softmax = torch.nn.Softmax()\n",
        "\n",
        "        self.dropout = torch.nn.Dropout(0.15)\n",
        "\n",
        "        self.embedding = NavecEmbedding(navec) #torch.nn.Embedding(input_size, embedding_dim)\n",
        "\n",
        "        self.conv1 = torch.nn.Conv1d(300, 512, kernel_size=5,padding=2)\n",
        "        self.conv2 = torch.nn.Conv1d(512, 1024, kernel_size=3,padding=1)\n",
        "        self.conv3 = torch.nn.Conv1d(1024, 2048, kernel_size=5,padding=2)\n",
        "\n",
        "        self.gru = torch.nn.GRU(2048, gru_hidden_size, batch_first = True)\n",
        "\n",
        "        self.fc1 = torch.nn.Linear(gru_hidden_size, fc_hidden_size)\n",
        "\n",
        "        self.fc2 = torch.nn.Linear(fc_hidden_size, output_size)\n",
        "\n",
        "    def forward(self, x):\n",
        "        x = self.embedding(x)\n",
        "\n",
        "        x = x.permute((0,2,1))\n",
        "\n",
        "        x = self.conv1(x)\n",
        "\n",
        "        x = self.relu(x)\n",
        "\n",
        "        x = self.conv2(x)\n",
        "\n",
        "        x = self.relu(x)\n",
        "\n",
        "        x = self.conv3(x)\n",
        "\n",
        "        x = self.relu(x)\n",
        "\n",
        "        x = self.dropout(x)\n",
        "\n",
        "        x = x.permute((0,2,1))\n",
        "\n",
        "        x = self.gru(x)[0].mean(dim=1) # (batch_size, L, hidden_size)\n",
        "\n",
        "        x = self.fc1(x)\n",
        "\n",
        "        x = self.relu(x)\n",
        "\n",
        "        x = self.fc2(x)\n",
        "        \n",
        "        return x\n",
        "\n",
        "    def predict(self,x):\n",
        "        return self.softmax(self.forward(x))\n"
      ],
      "execution_count": 80,
      "outputs": []
    },
    {
      "cell_type": "code",
      "metadata": {
        "id": "kQJ_dEotP8hJ"
      },
      "source": [
        "Net = TextClassifierNN(300, 512, 256, 2, model)\n",
        "Net.to(device)\n",
        "\n",
        "loss = torch.nn.CrossEntropyLoss()"
      ],
      "execution_count": 81,
      "outputs": []
    },
    {
      "cell_type": "code",
      "metadata": {
        "id": "MwPpTcmwQVIw"
      },
      "source": [
        "optimizer = torch.optim.Adam(Net.parameters(), lr=1.0e-3)"
      ],
      "execution_count": 82,
      "outputs": []
    },
    {
      "cell_type": "code",
      "metadata": {
        "id": "3dhNc-4WPNfp"
      },
      "source": [
        "test_loss_history = []\n",
        "test_accuracy_history = []\n",
        "test_precision_history = []"
      ],
      "execution_count": 83,
      "outputs": []
    },
    {
      "cell_type": "code",
      "metadata": {
        "id": "QLFD3wGNPrcC"
      },
      "source": [
        "X_train = torch.LongTensor(X_train)\n",
        "y_train = torch.LongTensor(y_train)\n",
        "\n",
        "X_test = torch.LongTensor(X_test)\n",
        "y_test = torch.LongTensor(y_test)"
      ],
      "execution_count": 84,
      "outputs": []
    },
    {
      "cell_type": "code",
      "metadata": {
        "id": "MPFIYvsgFjvk"
      },
      "source": [
        "X_test = X_test#.to(device)\n",
        "y_test = y_test#.to(device)"
      ],
      "execution_count": 85,
      "outputs": []
    },
    {
      "cell_type": "code",
      "metadata": {
        "id": "XgkXLVWu1svH",
        "colab": {
          "base_uri": "https://localhost:8080/"
        },
        "outputId": "1fcb5150-6a2c-41fb-8df8-45383ab9d904"
      },
      "source": [
        "Net.train()\n",
        "\n",
        "batch_size = 150\n",
        "\n",
        "for epoch in range(5):\n",
        "    order = np.random.permutation(len(X_train))\n",
        "    for start_index in range(0, len(X_train), batch_size):\n",
        "        optimizer.zero_grad()\n",
        "\n",
        "        with torch.no_grad():\n",
        "            batch_indexes = order[start_index:start_index+batch_size]\n",
        "            X_batch = X_train[batch_indexes]#.to(device)\n",
        "            y_batch = y_train[batch_indexes]#.to(device)\n",
        "            \n",
        "            X_batch = X_batch.to(device)\n",
        "            y_batch = y_batch.to(device)\n",
        "\n",
        "        preds = Net.forward(X_batch) \n",
        "        loss_value = loss(preds, y_batch)\n",
        "        loss_value.backward()\n",
        "        \n",
        "        optimizer.step()\n",
        "\n",
        "    with torch.no_grad():\n",
        "      test_preds = Net.forward(X_test.cuda()).cpu()\n",
        "\n",
        "      loss_test_value = loss(test_preds, y_test).detach().data.cpu()\n",
        "\n",
        "      test_loss_history.append(loss_test_value)\n",
        "      \n",
        "      accuracy = (test_preds.argmax(dim=1) == y_test).detach().float().mean().data.cpu()\n",
        "      test_accuracy_history.append(accuracy)\n",
        "      \n",
        "      precision = sklearn.metrics.precision_score(test_preds.argmax(dim=1).detach().cpu().numpy(), y_test.detach().cpu().numpy())\n",
        "      test_precision_history.append(precision)\n",
        "\n",
        "      print(f\"epoch {epoch+1}; test loss {loss_test_value}; test accuracy {accuracy}; test precision {precision}\")\n",
        "torch.save(Net.state_dict(),\"/content/drive/MyDrive/Colab Notebooks/TextClassifierNN.nn\")"
      ],
      "execution_count": 86,
      "outputs": [
        {
          "output_type": "stream",
          "name": "stdout",
          "text": [
            "epoch 1; test loss 0.4585353136062622; test accuracy 0.8159722089767456; test precision 0.5340909090909091\n",
            "epoch 2; test loss 0.35149890184402466; test accuracy 0.8368055820465088; test precision 0.9090909090909091\n",
            "epoch 3; test loss 0.29705896973609924; test accuracy 0.8819444179534912; test precision 0.8409090909090909\n",
            "epoch 4; test loss 0.3289809823036194; test accuracy 0.875; test precision 0.7386363636363636\n",
            "epoch 5; test loss 0.4405597150325775; test accuracy 0.8402777910232544; test precision 0.5795454545454546\n"
          ]
        }
      ]
    },
    {
      "cell_type": "code",
      "metadata": {
        "colab": {
          "base_uri": "https://localhost:8080/",
          "height": 282
        },
        "id": "gBH99gRE7uGY",
        "outputId": "fd519ae6-3ce7-43a6-da42-3631b89c9ba8"
      },
      "source": [
        "plt.plot(test_loss_history, label='loss')"
      ],
      "execution_count": 87,
      "outputs": [
        {
          "output_type": "execute_result",
          "data": {
            "text/plain": [
              "[<matplotlib.lines.Line2D at 0x7f21d1a24bd0>]"
            ]
          },
          "metadata": {},
          "execution_count": 87
        },
        {
          "output_type": "display_data",
          "data": {
            "image/png": "[encoded data removed]",
            "text/plain": [
              "<Figure size 432x288 with 1 Axes>"
            ]
          },
          "metadata": {
            "needs_background": "light"
          }
        }
      ]
    },
    {
      "cell_type": "code",
      "metadata": {
        "id": "DTxwI6Dv_RR3",
        "colab": {
          "base_uri": "https://localhost:8080/",
          "height": 265
        },
        "outputId": "76c24262-b021-4a5a-f0bf-8ad7acbef611"
      },
      "source": [
        "plt.plot(test_accuracy_history, label='accuracy')\n",
        "plt.plot(test_precision_history, label='precision')\n",
        "plt.legend()\n",
        "plt.show()  "
      ],
      "execution_count": 88,
      "outputs": [
        {
          "output_type": "display_data",
          "data": {
            "image/png": "[encoded data removed]",
            "text/plain": [
              "<Figure size 432x288 with 1 Axes>"
            ]
          },
          "metadata": {
            "needs_background": "light"
          }
        }
      ]
    },
    {
      "cell_type": "code",
      "metadata": {
        "id": "7nDgYGUFB5iW"
      },
      "source": [
        "with torch.no_grad():\n",
        "    y_pred = Net.forward(X_test)"
      ],
      "execution_count": 89,
      "outputs": []
    },
    {
      "cell_type": "code",
      "metadata": {
        "id": "t0tl2A03TVZt",
        "colab": {
          "base_uri": "https://localhost:8080/"
        },
        "outputId": "7597914a-d03c-4fa8-b9a3-4167c75ff20c"
      },
      "source": [
        "precision = sklearn.metrics.precision_score(y_pred.argmax(dim=1).detach().cpu().numpy(), y_test.detach().cpu().numpy())\n",
        "precision"
      ],
      "execution_count": 90,
      "outputs": [
        {
          "output_type": "execute_result",
          "data": {
            "text/plain": [
              "0.5795454545454546"
            ]
          },
          "metadata": {},
          "execution_count": 90
        }
      ]
    },
    {
      "cell_type": "code",
      "metadata": {
        "id": "r7bJNOq6W8SA",
        "colab": {
          "base_uri": "https://localhost:8080/"
        },
        "outputId": "98883244-48e1-4ee3-a771-07a9e64c719a"
      },
      "source": [
        "recall = sklearn.metrics.recall_score(y_pred.argmax(dim=1).detach().cpu().numpy(), y_test.detach().cpu().numpy())\n",
        "recall"
      ],
      "execution_count": 91,
      "outputs": [
        {
          "output_type": "execute_result",
          "data": {
            "text/plain": [
              "0.85"
            ]
          },
          "metadata": {},
          "execution_count": 91
        }
      ]
    },
    {
      "cell_type": "code",
      "metadata": {
        "id": "xGtyCpuesCeo",
        "colab": {
          "base_uri": "https://localhost:8080/"
        },
        "outputId": "a5cb1b9e-26de-4551-d227-b3551b991967"
      },
      "source": [
        "!nvidia-smi"
      ],
      "execution_count": 92,
      "outputs": [
        {
          "output_type": "stream",
          "name": "stdout",
          "text": [
            "Mon Oct 11 08:33:20 2021       \n",
            "+-----------------------------------------------------------------------------+\n",
            "| NVIDIA-SMI 470.74       Driver Version: 460.32.03    CUDA Version: 11.2     |\n",
            "|-------------------------------+----------------------+----------------------+\n",
            "| GPU  Name        Persistence-M| Bus-Id        Disp.A | Volatile Uncorr. ECC |\n",
            "| Fan  Temp  Perf  Pwr:Usage/Cap|         Memory-Usage | GPU-Util  Compute M. |\n",
            "|                               |                      |               MIG M. |\n",
            "|===============================+======================+======================|\n",
            "|   0  Tesla K80           Off  | 00000000:00:04.0 Off |                    0 |\n",
            "| N/A   72C    P0   135W / 149W |   8197MiB / 11441MiB |     73%      Default |\n",
            "|                               |                      |                  N/A |\n",
            "+-------------------------------+----------------------+----------------------+\n",
            "                                                                               \n",
            "+-----------------------------------------------------------------------------+\n",
            "| Processes:                                                                  |\n",
            "|  GPU   GI   CI        PID   Type   Process name                  GPU Memory |\n",
            "|        ID   ID                                                   Usage      |\n",
            "|=============================================================================|\n",
            "|  No running processes found                                                 |\n",
            "+-----------------------------------------------------------------------------+\n"
          ]
        }
      ]
    },
    {
      "cell_type": "code",
      "metadata": {
        "id": "4lX-ICQow5kf"
      },
      "source": [
        ""
      ],
      "execution_count": 92,
      "outputs": []
    }
  ]
}