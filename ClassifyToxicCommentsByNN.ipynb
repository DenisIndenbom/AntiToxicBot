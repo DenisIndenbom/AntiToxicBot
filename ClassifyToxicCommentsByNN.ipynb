{
  "nbformat": 4,
  "nbformat_minor": 0,
  "metadata": {
    "colab": {
      "name": "ClassifyToxicCommentsByNN.ipynb",
      "provenance": [],
      "collapsed_sections": []
    },
    "kernelspec": {
      "name": "python3",
      "display_name": "Python 3"
    },
    "language_info": {
      "name": "python"
    },
    "accelerator": "GPU"
  },
  "cells": [
    {
      "cell_type": "code",
      "metadata": {
        "id": "zPhSGpqkSWC3",
        "colab": {
          "base_uri": "https://localhost:8080/"
        },
        "outputId": "94b59e52-b10a-46c8-a49d-81a7ca9ab85a"
      },
      "source": [
        "from google.colab import drive\n",
        "drive.mount('/content/drive')"
      ],
      "execution_count": 3,
      "outputs": [
        {
          "output_type": "stream",
          "text": [
            "Drive already mounted at /content/drive; to attempt to forcibly remount, call drive.mount(\"/content/drive\", force_remount=True).\n"
          ],
          "name": "stdout"
        }
      ]
    },
    {
      "cell_type": "code",
      "metadata": {
        "id": "wrOOYG3PGV5a"
      },
      "source": [
        "#!wget https://storage.yandexcloud.net/natasha-navec/packs/navec_hudlit_v1_12B_500K_300d_100q.tar "
      ],
      "execution_count": 4,
      "outputs": []
    },
    {
      "cell_type": "code",
      "metadata": {
        "id": "DqhBSgfsFWUO",
        "colab": {
          "base_uri": "https://localhost:8080/"
        },
        "outputId": "79098318-ebcb-406a-dff1-2e86d21a6354"
      },
      "source": [
        "!pip install navec"
      ],
      "execution_count": 5,
      "outputs": [
        {
          "output_type": "stream",
          "text": [
            "Requirement already satisfied: navec in /usr/local/lib/python3.7/dist-packages (0.10.0)\n",
            "Requirement already satisfied: numpy in /usr/local/lib/python3.7/dist-packages (from navec) (1.19.5)\n"
          ],
          "name": "stdout"
        }
      ]
    },
    {
      "cell_type": "code",
      "metadata": {
        "id": "PMO0BpZ4Gow4",
        "colab": {
          "base_uri": "https://localhost:8080/"
        },
        "outputId": "8feaa7f1-f5ee-46a2-d588-2d7d103e6a30"
      },
      "source": [
        "!pip install slovnet"
      ],
      "execution_count": 6,
      "outputs": [
        {
          "output_type": "stream",
          "text": [
            "Requirement already satisfied: slovnet in /usr/local/lib/python3.7/dist-packages (0.5.0)\n",
            "Requirement already satisfied: navec in /usr/local/lib/python3.7/dist-packages (from slovnet) (0.10.0)\n",
            "Requirement already satisfied: numpy in /usr/local/lib/python3.7/dist-packages (from slovnet) (1.19.5)\n",
            "Requirement already satisfied: razdel in /usr/local/lib/python3.7/dist-packages (from slovnet) (0.5.0)\n"
          ],
          "name": "stdout"
        }
      ]
    },
    {
      "cell_type": "code",
      "metadata": {
        "id": "MncqkwmQE2rC"
      },
      "source": [
        "import pandas as pd\n",
        "\n",
        "import numpy as np\n",
        "import sklearn"
      ],
      "execution_count": 7,
      "outputs": []
    },
    {
      "cell_type": "code",
      "metadata": {
        "id": "EdAgoBy_IOys"
      },
      "source": [
        "from nltk.tokenize import WordPunctTokenizer\n",
        "from gensim.models import Word2Vec\n",
        "\n",
        "from navec import Navec"
      ],
      "execution_count": 8,
      "outputs": []
    },
    {
      "cell_type": "code",
      "metadata": {
        "id": "JDY0Ct8aLrmS"
      },
      "source": [
        "import torch\n",
        "from slovnet.model.emb import NavecEmbedding"
      ],
      "execution_count": 9,
      "outputs": []
    },
    {
      "cell_type": "code",
      "metadata": {
        "id": "nC7v1e_8Skpc"
      },
      "source": [
        "import matplotlib.pyplot as plt\n",
        "%matplotlib inline"
      ],
      "execution_count": 10,
      "outputs": []
    },
    {
      "cell_type": "code",
      "metadata": {
        "id": "9OPrUr1NUARX"
      },
      "source": [
        "def clear_text(text: str):\n",
        "  bad_symbols = [\",\", \"!\", \":\", \"/\", \".\", \"|\", \"(\", \")\", \"-\", \"_\", \"?\",\";\"]\n",
        "  clear_text = ''\n",
        "\n",
        "  for symbol in text:\n",
        "    if symbol not in bad_symbols:\n",
        "      clear_text += symbol\n",
        "  return clear_text"
      ],
      "execution_count": 11,
      "outputs": []
    },
    {
      "cell_type": "code",
      "metadata": {
        "id": "Kn2OWKzLc-dY"
      },
      "source": [
        "def add_zero_indexes(ind, max_text_ind_len):\n",
        "    if len(ind) < max_text_ind_len:\n",
        "        z_arr = np.zeros((max_text_ind_len - len(ind)),dtype=np.int64).T\n",
        "        ind = np.concatenate((ind,z_arr),axis=0)\n",
        "    return ind"
      ],
      "execution_count": 12,
      "outputs": []
    },
    {
      "cell_type": "code",
      "metadata": {
        "id": "0CoysxolEzNa"
      },
      "source": [
        "def bin2classes(x:int):\n",
        "    return np.array([0,1]) if x == 1 else np.array([1,0])\n",
        "def classes2bin(x):\n",
        "    return 0 if x == [1,0] else 1"
      ],
      "execution_count": 13,
      "outputs": []
    },
    {
      "cell_type": "code",
      "metadata": {
        "id": "tg-9zKyXzCmd"
      },
      "source": [
        "def get_text_indexes(words: str, word_model):\n",
        "    indexes = []\n",
        "\n",
        "    for word in words:\n",
        "        try:\n",
        "          indexes.append(word_model.vocab[word])\n",
        "        except KeyError:\n",
        "          indexes.append(0)\n",
        "\n",
        "    return np.array(indexes, dtype=np.int64)"
      ],
      "execution_count": 14,
      "outputs": []
    },
    {
      "cell_type": "code",
      "metadata": {
        "id": "S1I-xkl3GAwA"
      },
      "source": [
        "model = Navec.load(\"navec_hudlit_v1_12B_500K_300d_100q.tar\")"
      ],
      "execution_count": 15,
      "outputs": []
    },
    {
      "cell_type": "code",
      "metadata": {
        "id": "S2GsQIH3GAb-"
      },
      "source": [
        "train_data = pd.read_csv(\"/content/train.csv\")"
      ],
      "execution_count": 16,
      "outputs": []
    },
    {
      "cell_type": "code",
      "metadata": {
        "id": "3f4n12tULht-"
      },
      "source": [
        "test_data = pd.read_csv(\"/content/test.csv\")"
      ],
      "execution_count": 17,
      "outputs": []
    },
    {
      "cell_type": "code",
      "metadata": {
        "id": "8xrGcwHhmSCw"
      },
      "source": [
        "tokenizer = WordPunctTokenizer()"
      ],
      "execution_count": 18,
      "outputs": []
    },
    {
      "cell_type": "code",
      "metadata": {
        "id": "q22hFqX0jdwE"
      },
      "source": [
        "train_data = train_data.sort_values(by=[\"comment\"], key=lambda x: x.str.len())"
      ],
      "execution_count": 19,
      "outputs": []
    },
    {
      "cell_type": "code",
      "metadata": {
        "id": "wciWzQvwmnkU"
      },
      "source": [
        "train_data[\"comment\"] = train_data[\"comment\"].apply(lambda x: tokenizer.tokenize(x.lower()))"
      ],
      "execution_count": 20,
      "outputs": []
    },
    {
      "cell_type": "code",
      "metadata": {
        "id": "wtMDvHmVG5fj"
      },
      "source": [
        "#train_data[\"toxic\"] = train_data[\"toxic\"].apply(lambda x: bin2classes(x))"
      ],
      "execution_count": 21,
      "outputs": []
    },
    {
      "cell_type": "code",
      "metadata": {
        "id": "JiU97olpnFwW",
        "colab": {
          "base_uri": "https://localhost:8080/",
          "height": 402
        },
        "outputId": "abc5b3ac-125f-40bd-9257-7ccca29c45ba"
      },
      "source": [
        "train_data"
      ],
      "execution_count": 22,
      "outputs": [
        {
          "output_type": "execute_result",
          "data": {
            "text/html": [
              "<div>\n",
              "<style scoped>\n",
              "    .dataframe tbody tr th:only-of-type {\n",
              "        vertical-align: middle;\n",
              "    }\n",
              "\n",
              "    .dataframe tbody tr th {\n",
              "        vertical-align: top;\n",
              "    }\n",
              "\n",
              "    .dataframe thead th {\n",
              "        text-align: right;\n",
              "    }\n",
              "</style>\n",
              "<table border=\"1\" class=\"dataframe\">\n",
              "  <thead>\n",
              "    <tr style=\"text-align: right;\">\n",
              "      <th></th>\n",
              "      <th>id</th>\n",
              "      <th>comment</th>\n",
              "      <th>toxic</th>\n",
              "    </tr>\n",
              "  </thead>\n",
              "  <tbody>\n",
              "    <tr>\n",
              "      <th>5703</th>\n",
              "      <td>5703</td>\n",
              "      <td>[бауманка, астанавитесь]</td>\n",
              "      <td>0.0</td>\n",
              "    </tr>\n",
              "    <tr>\n",
              "      <th>15</th>\n",
              "      <td>15</td>\n",
              "      <td>[после, маски, ,, лицо, жмет]</td>\n",
              "      <td>0.0</td>\n",
              "    </tr>\n",
              "    <tr>\n",
              "      <th>4603</th>\n",
              "      <td>4603</td>\n",
              "      <td>[а, сколько, у, нас, шпаг, ?]</td>\n",
              "      <td>0.0</td>\n",
              "    </tr>\n",
              "    <tr>\n",
              "      <th>7914</th>\n",
              "      <td>7914</td>\n",
              "      <td>[но, она, же, красивая, ...]</td>\n",
              "      <td>0.0</td>\n",
              "    </tr>\n",
              "    <tr>\n",
              "      <th>2713</th>\n",
              "      <td>2713</td>\n",
              "      <td>[папич, лучший, на, трипл]</td>\n",
              "      <td>1.0</td>\n",
              "    </tr>\n",
              "    <tr>\n",
              "      <th>...</th>\n",
              "      <td>...</td>\n",
              "      <td>...</td>\n",
              "      <td>...</td>\n",
              "    </tr>\n",
              "    <tr>\n",
              "      <th>4562</th>\n",
              "      <td>4562</td>\n",
              "      <td>[рад, ,, что, вы, допускаете, пользу, от, марк...</td>\n",
              "      <td>0.0</td>\n",
              "    </tr>\n",
              "    <tr>\n",
              "      <th>7904</th>\n",
              "      <td>7904</td>\n",
              "      <td>[именно, так, ., смотрю, на, тебя, ,, стаса, ,...</td>\n",
              "      <td>1.0</td>\n",
              "    </tr>\n",
              "    <tr>\n",
              "      <th>11311</th>\n",
              "      <td>11311</td>\n",
              "      <td>[агентство, darpa, в, 2020, году, планирует, н...</td>\n",
              "      <td>0.0</td>\n",
              "    </tr>\n",
              "    <tr>\n",
              "      <th>3335</th>\n",
              "      <td>3335</td>\n",
              "      <td>[с, 19, апреля, в, николаеве, будет, действова...</td>\n",
              "      <td>0.0</td>\n",
              "    </tr>\n",
              "    <tr>\n",
              "      <th>9559</th>\n",
              "      <td>9559</td>\n",
              "      <td>[с, начала, года, свыше, 40, тысяч, россиян, о...</td>\n",
              "      <td>0.0</td>\n",
              "    </tr>\n",
              "  </tbody>\n",
              "</table>\n",
              "<p>11529 rows × 3 columns</p>\n",
              "</div>"
            ],
            "text/plain": [
              "          id                                            comment  toxic\n",
              "5703    5703                           [бауманка, астанавитесь]    0.0\n",
              "15        15                      [после, маски, ,, лицо, жмет]    0.0\n",
              "4603    4603                      [а, сколько, у, нас, шпаг, ?]    0.0\n",
              "7914    7914                       [но, она, же, красивая, ...]    0.0\n",
              "2713    2713                         [папич, лучший, на, трипл]    1.0\n",
              "...      ...                                                ...    ...\n",
              "4562    4562  [рад, ,, что, вы, допускаете, пользу, от, марк...    0.0\n",
              "7904    7904  [именно, так, ., смотрю, на, тебя, ,, стаса, ,...    1.0\n",
              "11311  11311  [агентство, darpa, в, 2020, году, планирует, н...    0.0\n",
              "3335    3335  [с, 19, апреля, в, николаеве, будет, действова...    0.0\n",
              "9559    9559  [с, начала, года, свыше, 40, тысяч, россиян, о...    0.0\n",
              "\n",
              "[11529 rows x 3 columns]"
            ]
          },
          "metadata": {
            "tags": []
          },
          "execution_count": 22
        }
      ]
    },
    {
      "cell_type": "code",
      "metadata": {
        "id": "PzaQe9UKggqT"
      },
      "source": [
        "train_data['indexed_text'] = train_data['comment'].apply(lambda x: get_text_indexes(x,model))"
      ],
      "execution_count": 23,
      "outputs": []
    },
    {
      "cell_type": "code",
      "metadata": {
        "id": "JQ_h6pk5itf4",
        "colab": {
          "base_uri": "https://localhost:8080/",
          "height": 195
        },
        "outputId": "ca636440-8f2a-4706-c6be-fa407b405932"
      },
      "source": [
        "train_data.head()"
      ],
      "execution_count": 24,
      "outputs": [
        {
          "output_type": "execute_result",
          "data": {
            "text/html": [
              "<div>\n",
              "<style scoped>\n",
              "    .dataframe tbody tr th:only-of-type {\n",
              "        vertical-align: middle;\n",
              "    }\n",
              "\n",
              "    .dataframe tbody tr th {\n",
              "        vertical-align: top;\n",
              "    }\n",
              "\n",
              "    .dataframe thead th {\n",
              "        text-align: right;\n",
              "    }\n",
              "</style>\n",
              "<table border=\"1\" class=\"dataframe\">\n",
              "  <thead>\n",
              "    <tr style=\"text-align: right;\">\n",
              "      <th></th>\n",
              "      <th>id</th>\n",
              "      <th>comment</th>\n",
              "      <th>toxic</th>\n",
              "      <th>indexed_text</th>\n",
              "    </tr>\n",
              "  </thead>\n",
              "  <tbody>\n",
              "    <tr>\n",
              "      <th>5703</th>\n",
              "      <td>5703</td>\n",
              "      <td>[бауманка, астанавитесь]</td>\n",
              "      <td>0.0</td>\n",
              "      <td>[0, 0]</td>\n",
              "    </tr>\n",
              "    <tr>\n",
              "      <th>15</th>\n",
              "      <td>15</td>\n",
              "      <td>[после, маски, ,, лицо, жмет]</td>\n",
              "      <td>0.0</td>\n",
              "      <td>[323971, 208356, 0, 198277, 124829]</td>\n",
              "    </tr>\n",
              "    <tr>\n",
              "      <th>4603</th>\n",
              "      <td>4603</td>\n",
              "      <td>[а, сколько, у, нас, шпаг, ?]</td>\n",
              "      <td>0.0</td>\n",
              "      <td>[14251, 399941, 445396, 233124, 487958, 0]</td>\n",
              "    </tr>\n",
              "    <tr>\n",
              "      <th>7914</th>\n",
              "      <td>7914</td>\n",
              "      <td>[но, она, же, красивая, ...]</td>\n",
              "      <td>0.0</td>\n",
              "      <td>[250090, 267314, 122803, 183771, 0]</td>\n",
              "    </tr>\n",
              "    <tr>\n",
              "      <th>2713</th>\n",
              "      <td>2713</td>\n",
              "      <td>[папич, лучший, на, трипл]</td>\n",
              "      <td>1.0</td>\n",
              "      <td>[0, 201294, 225007, 0]</td>\n",
              "    </tr>\n",
              "  </tbody>\n",
              "</table>\n",
              "</div>"
            ],
            "text/plain": [
              "        id  ...                                indexed_text\n",
              "5703  5703  ...                                      [0, 0]\n",
              "15      15  ...         [323971, 208356, 0, 198277, 124829]\n",
              "4603  4603  ...  [14251, 399941, 445396, 233124, 487958, 0]\n",
              "7914  7914  ...         [250090, 267314, 122803, 183771, 0]\n",
              "2713  2713  ...                      [0, 201294, 225007, 0]\n",
              "\n",
              "[5 rows x 4 columns]"
            ]
          },
          "metadata": {
            "tags": []
          },
          "execution_count": 24
        }
      ]
    },
    {
      "cell_type": "code",
      "metadata": {
        "id": "9jGFUteEhBHp"
      },
      "source": [
        "train_data['indexed_text_len'] = train_data['indexed_text'].apply(lambda x: len(x))"
      ],
      "execution_count": 25,
      "outputs": []
    },
    {
      "cell_type": "code",
      "metadata": {
        "id": "6YRva7wSptGp",
        "colab": {
          "base_uri": "https://localhost:8080/",
          "height": 402
        },
        "outputId": "b1d02bac-6973-4372-e6d0-4f884b543c1b"
      },
      "source": [
        "train_data"
      ],
      "execution_count": 26,
      "outputs": [
        {
          "output_type": "execute_result",
          "data": {
            "text/html": [
              "<div>\n",
              "<style scoped>\n",
              "    .dataframe tbody tr th:only-of-type {\n",
              "        vertical-align: middle;\n",
              "    }\n",
              "\n",
              "    .dataframe tbody tr th {\n",
              "        vertical-align: top;\n",
              "    }\n",
              "\n",
              "    .dataframe thead th {\n",
              "        text-align: right;\n",
              "    }\n",
              "</style>\n",
              "<table border=\"1\" class=\"dataframe\">\n",
              "  <thead>\n",
              "    <tr style=\"text-align: right;\">\n",
              "      <th></th>\n",
              "      <th>id</th>\n",
              "      <th>comment</th>\n",
              "      <th>toxic</th>\n",
              "      <th>indexed_text</th>\n",
              "      <th>indexed_text_len</th>\n",
              "    </tr>\n",
              "  </thead>\n",
              "  <tbody>\n",
              "    <tr>\n",
              "      <th>5703</th>\n",
              "      <td>5703</td>\n",
              "      <td>[бауманка, астанавитесь]</td>\n",
              "      <td>0.0</td>\n",
              "      <td>[0, 0]</td>\n",
              "      <td>2</td>\n",
              "    </tr>\n",
              "    <tr>\n",
              "      <th>15</th>\n",
              "      <td>15</td>\n",
              "      <td>[после, маски, ,, лицо, жмет]</td>\n",
              "      <td>0.0</td>\n",
              "      <td>[323971, 208356, 0, 198277, 124829]</td>\n",
              "      <td>5</td>\n",
              "    </tr>\n",
              "    <tr>\n",
              "      <th>4603</th>\n",
              "      <td>4603</td>\n",
              "      <td>[а, сколько, у, нас, шпаг, ?]</td>\n",
              "      <td>0.0</td>\n",
              "      <td>[14251, 399941, 445396, 233124, 487958, 0]</td>\n",
              "      <td>6</td>\n",
              "    </tr>\n",
              "    <tr>\n",
              "      <th>7914</th>\n",
              "      <td>7914</td>\n",
              "      <td>[но, она, же, красивая, ...]</td>\n",
              "      <td>0.0</td>\n",
              "      <td>[250090, 267314, 122803, 183771, 0]</td>\n",
              "      <td>5</td>\n",
              "    </tr>\n",
              "    <tr>\n",
              "      <th>2713</th>\n",
              "      <td>2713</td>\n",
              "      <td>[папич, лучший, на, трипл]</td>\n",
              "      <td>1.0</td>\n",
              "      <td>[0, 201294, 225007, 0]</td>\n",
              "      <td>4</td>\n",
              "    </tr>\n",
              "    <tr>\n",
              "      <th>...</th>\n",
              "      <td>...</td>\n",
              "      <td>...</td>\n",
              "      <td>...</td>\n",
              "      <td>...</td>\n",
              "      <td>...</td>\n",
              "    </tr>\n",
              "    <tr>\n",
              "      <th>4562</th>\n",
              "      <td>4562</td>\n",
              "      <td>[рад, ,, что, вы, допускаете, пользу, от, марк...</td>\n",
              "      <td>0.0</td>\n",
              "      <td>[358905, 0, 482066, 74884, 114608, 318465, 274...</td>\n",
              "      <td>825</td>\n",
              "    </tr>\n",
              "    <tr>\n",
              "      <th>7904</th>\n",
              "      <td>7904</td>\n",
              "      <td>[именно, так, ., смотрю, на, тебя, ,, стаса, ,...</td>\n",
              "      <td>1.0</td>\n",
              "      <td>[152363, 428858, 0, 405320, 225007, 431365, 0,...</td>\n",
              "      <td>784</td>\n",
              "    </tr>\n",
              "    <tr>\n",
              "      <th>11311</th>\n",
              "      <td>11311</td>\n",
              "      <td>[агентство, darpa, в, 2020, году, планирует, н...</td>\n",
              "      <td>0.0</td>\n",
              "      <td>[16206, 3016, 51199, 0, 91885, 300229, 235924,...</td>\n",
              "      <td>716</td>\n",
              "    </tr>\n",
              "    <tr>\n",
              "      <th>3335</th>\n",
              "      <td>3335</td>\n",
              "      <td>[с, 19, апреля, в, николаеве, будет, действова...</td>\n",
              "      <td>0.0</td>\n",
              "      <td>[383451, 0, 24273, 51199, 249193, 48454, 10389...</td>\n",
              "      <td>882</td>\n",
              "    </tr>\n",
              "    <tr>\n",
              "      <th>9559</th>\n",
              "      <td>9559</td>\n",
              "      <td>[с, начала, года, свыше, 40, тысяч, россиян, о...</td>\n",
              "      <td>0.0</td>\n",
              "      <td>[383451, 235822, 91756, 390492, 0, 444338, 380...</td>\n",
              "      <td>1190</td>\n",
              "    </tr>\n",
              "  </tbody>\n",
              "</table>\n",
              "<p>11529 rows × 5 columns</p>\n",
              "</div>"
            ],
            "text/plain": [
              "          id  ... indexed_text_len\n",
              "5703    5703  ...                2\n",
              "15        15  ...                5\n",
              "4603    4603  ...                6\n",
              "7914    7914  ...                5\n",
              "2713    2713  ...                4\n",
              "...      ...  ...              ...\n",
              "4562    4562  ...              825\n",
              "7904    7904  ...              784\n",
              "11311  11311  ...              716\n",
              "3335    3335  ...              882\n",
              "9559    9559  ...             1190\n",
              "\n",
              "[11529 rows x 5 columns]"
            ]
          },
          "metadata": {
            "tags": []
          },
          "execution_count": 26
        }
      ]
    },
    {
      "cell_type": "code",
      "metadata": {
        "id": "Ipyp4zTRl--2"
      },
      "source": [
        "train_data = train_data.iloc[:-20]"
      ],
      "execution_count": 27,
      "outputs": []
    },
    {
      "cell_type": "code",
      "metadata": {
        "id": "r9X57-Ilizvt",
        "colab": {
          "base_uri": "https://localhost:8080/",
          "height": 402
        },
        "outputId": "a7ca9dcd-cda9-4922-f374-8db2c9e495fc"
      },
      "source": [
        "train_data"
      ],
      "execution_count": 28,
      "outputs": [
        {
          "output_type": "execute_result",
          "data": {
            "text/html": [
              "<div>\n",
              "<style scoped>\n",
              "    .dataframe tbody tr th:only-of-type {\n",
              "        vertical-align: middle;\n",
              "    }\n",
              "\n",
              "    .dataframe tbody tr th {\n",
              "        vertical-align: top;\n",
              "    }\n",
              "\n",
              "    .dataframe thead th {\n",
              "        text-align: right;\n",
              "    }\n",
              "</style>\n",
              "<table border=\"1\" class=\"dataframe\">\n",
              "  <thead>\n",
              "    <tr style=\"text-align: right;\">\n",
              "      <th></th>\n",
              "      <th>id</th>\n",
              "      <th>comment</th>\n",
              "      <th>toxic</th>\n",
              "      <th>indexed_text</th>\n",
              "      <th>indexed_text_len</th>\n",
              "    </tr>\n",
              "  </thead>\n",
              "  <tbody>\n",
              "    <tr>\n",
              "      <th>5703</th>\n",
              "      <td>5703</td>\n",
              "      <td>[бауманка, астанавитесь]</td>\n",
              "      <td>0.0</td>\n",
              "      <td>[0, 0]</td>\n",
              "      <td>2</td>\n",
              "    </tr>\n",
              "    <tr>\n",
              "      <th>15</th>\n",
              "      <td>15</td>\n",
              "      <td>[после, маски, ,, лицо, жмет]</td>\n",
              "      <td>0.0</td>\n",
              "      <td>[323971, 208356, 0, 198277, 124829]</td>\n",
              "      <td>5</td>\n",
              "    </tr>\n",
              "    <tr>\n",
              "      <th>4603</th>\n",
              "      <td>4603</td>\n",
              "      <td>[а, сколько, у, нас, шпаг, ?]</td>\n",
              "      <td>0.0</td>\n",
              "      <td>[14251, 399941, 445396, 233124, 487958, 0]</td>\n",
              "      <td>6</td>\n",
              "    </tr>\n",
              "    <tr>\n",
              "      <th>7914</th>\n",
              "      <td>7914</td>\n",
              "      <td>[но, она, же, красивая, ...]</td>\n",
              "      <td>0.0</td>\n",
              "      <td>[250090, 267314, 122803, 183771, 0]</td>\n",
              "      <td>5</td>\n",
              "    </tr>\n",
              "    <tr>\n",
              "      <th>2713</th>\n",
              "      <td>2713</td>\n",
              "      <td>[папич, лучший, на, трипл]</td>\n",
              "      <td>1.0</td>\n",
              "      <td>[0, 201294, 225007, 0]</td>\n",
              "      <td>4</td>\n",
              "    </tr>\n",
              "    <tr>\n",
              "      <th>...</th>\n",
              "      <td>...</td>\n",
              "      <td>...</td>\n",
              "      <td>...</td>\n",
              "      <td>...</td>\n",
              "      <td>...</td>\n",
              "    </tr>\n",
              "    <tr>\n",
              "      <th>1317</th>\n",
              "      <td>1317</td>\n",
              "      <td>[по, закону, ,, корабли, имеют, право, проходи...</td>\n",
              "      <td>0.0</td>\n",
              "      <td>[302187, 131851, 0, 180180, 152445, 329306, 35...</td>\n",
              "      <td>420</td>\n",
              "    </tr>\n",
              "    <tr>\n",
              "      <th>6668</th>\n",
              "      <td>6668</td>\n",
              "      <td>[в, любом, тоталитарном, государстве, ,, основ...</td>\n",
              "      <td>0.0</td>\n",
              "      <td>[51199, 202150, 438428, 94789, 0, 273177, 4979...</td>\n",
              "      <td>444</td>\n",
              "    </tr>\n",
              "    <tr>\n",
              "      <th>9524</th>\n",
              "      <td>9524</td>\n",
              "      <td>[доказательства, теории, относительности, можн...</td>\n",
              "      <td>0.0</td>\n",
              "      <td>[112774, 432985, 278825, 218576, 51199, 487020...</td>\n",
              "      <td>442</td>\n",
              "    </tr>\n",
              "    <tr>\n",
              "      <th>10182</th>\n",
              "      <td>10182</td>\n",
              "      <td>[вопросы, :, увидел, пару, фоток, ножей, аркос...</td>\n",
              "      <td>0.0</td>\n",
              "      <td>[68687, 0, 446776, 287872, 466028, 250740, 255...</td>\n",
              "      <td>479</td>\n",
              "    </tr>\n",
              "    <tr>\n",
              "      <th>11093</th>\n",
              "      <td>11093</td>\n",
              "      <td>[ну, тут, такое, ., обрати, внимание, на, форм...</td>\n",
              "      <td>1.0</td>\n",
              "      <td>[251965, 443855, 428965, 0, 258348, 64037, 225...</td>\n",
              "      <td>519</td>\n",
              "    </tr>\n",
              "  </tbody>\n",
              "</table>\n",
              "<p>11509 rows × 5 columns</p>\n",
              "</div>"
            ],
            "text/plain": [
              "          id  ... indexed_text_len\n",
              "5703    5703  ...                2\n",
              "15        15  ...                5\n",
              "4603    4603  ...                6\n",
              "7914    7914  ...                5\n",
              "2713    2713  ...                4\n",
              "...      ...  ...              ...\n",
              "1317    1317  ...              420\n",
              "6668    6668  ...              444\n",
              "9524    9524  ...              442\n",
              "10182  10182  ...              479\n",
              "11093  11093  ...              519\n",
              "\n",
              "[11509 rows x 5 columns]"
            ]
          },
          "metadata": {
            "tags": []
          },
          "execution_count": 28
        }
      ]
    },
    {
      "cell_type": "code",
      "metadata": {
        "id": "pB9T6l6phOzD",
        "colab": {
          "base_uri": "https://localhost:8080/"
        },
        "outputId": "8f8cc632-5070-4d70-f66e-037939930e21"
      },
      "source": [
        "max_len = train_data['indexed_text_len'].max()\n",
        "max_len"
      ],
      "execution_count": 29,
      "outputs": [
        {
          "output_type": "execute_result",
          "data": {
            "text/plain": [
              "519"
            ]
          },
          "metadata": {
            "tags": []
          },
          "execution_count": 29
        }
      ]
    },
    {
      "cell_type": "code",
      "metadata": {
        "id": "4jPdU1cBkhr8",
        "colab": {
          "base_uri": "https://localhost:8080/"
        },
        "outputId": "72e7b96b-4efb-4907-b00b-e1007e1e7532"
      },
      "source": [
        "train_data[\"indexed_text\"] = train_data[\"indexed_text\"].apply(lambda x: add_zero_indexes(x, max_len))"
      ],
      "execution_count": 30,
      "outputs": [
        {
          "output_type": "stream",
          "text": [
            "/usr/local/lib/python3.7/dist-packages/ipykernel_launcher.py:1: SettingWithCopyWarning: \n",
            "A value is trying to be set on a copy of a slice from a DataFrame.\n",
            "Try using .loc[row_indexer,col_indexer] = value instead\n",
            "\n",
            "See the caveats in the documentation: https://pandas.pydata.org/pandas-docs/stable/user_guide/indexing.html#returning-a-view-versus-a-copy\n",
            "  \"\"\"Entry point for launching an IPython kernel.\n"
          ],
          "name": "stderr"
        }
      ]
    },
    {
      "cell_type": "code",
      "metadata": {
        "id": "wvVeN8YN2Sz4",
        "colab": {
          "base_uri": "https://localhost:8080/",
          "height": 402
        },
        "outputId": "0e331ef0-fd0a-4dcc-b985-9707dcf335ea"
      },
      "source": [
        "train_data"
      ],
      "execution_count": 31,
      "outputs": [
        {
          "output_type": "execute_result",
          "data": {
            "text/html": [
              "<div>\n",
              "<style scoped>\n",
              "    .dataframe tbody tr th:only-of-type {\n",
              "        vertical-align: middle;\n",
              "    }\n",
              "\n",
              "    .dataframe tbody tr th {\n",
              "        vertical-align: top;\n",
              "    }\n",
              "\n",
              "    .dataframe thead th {\n",
              "        text-align: right;\n",
              "    }\n",
              "</style>\n",
              "<table border=\"1\" class=\"dataframe\">\n",
              "  <thead>\n",
              "    <tr style=\"text-align: right;\">\n",
              "      <th></th>\n",
              "      <th>id</th>\n",
              "      <th>comment</th>\n",
              "      <th>toxic</th>\n",
              "      <th>indexed_text</th>\n",
              "      <th>indexed_text_len</th>\n",
              "    </tr>\n",
              "  </thead>\n",
              "  <tbody>\n",
              "    <tr>\n",
              "      <th>5703</th>\n",
              "      <td>5703</td>\n",
              "      <td>[бауманка, астанавитесь]</td>\n",
              "      <td>0.0</td>\n",
              "      <td>[0, 0, 0, 0, 0, 0, 0, 0, 0, 0, 0, 0, 0, 0, 0, ...</td>\n",
              "      <td>2</td>\n",
              "    </tr>\n",
              "    <tr>\n",
              "      <th>15</th>\n",
              "      <td>15</td>\n",
              "      <td>[после, маски, ,, лицо, жмет]</td>\n",
              "      <td>0.0</td>\n",
              "      <td>[323971, 208356, 0, 198277, 124829, 0, 0, 0, 0...</td>\n",
              "      <td>5</td>\n",
              "    </tr>\n",
              "    <tr>\n",
              "      <th>4603</th>\n",
              "      <td>4603</td>\n",
              "      <td>[а, сколько, у, нас, шпаг, ?]</td>\n",
              "      <td>0.0</td>\n",
              "      <td>[14251, 399941, 445396, 233124, 487958, 0, 0, ...</td>\n",
              "      <td>6</td>\n",
              "    </tr>\n",
              "    <tr>\n",
              "      <th>7914</th>\n",
              "      <td>7914</td>\n",
              "      <td>[но, она, же, красивая, ...]</td>\n",
              "      <td>0.0</td>\n",
              "      <td>[250090, 267314, 122803, 183771, 0, 0, 0, 0, 0...</td>\n",
              "      <td>5</td>\n",
              "    </tr>\n",
              "    <tr>\n",
              "      <th>2713</th>\n",
              "      <td>2713</td>\n",
              "      <td>[папич, лучший, на, трипл]</td>\n",
              "      <td>1.0</td>\n",
              "      <td>[0, 201294, 225007, 0, 0, 0, 0, 0, 0, 0, 0, 0,...</td>\n",
              "      <td>4</td>\n",
              "    </tr>\n",
              "    <tr>\n",
              "      <th>...</th>\n",
              "      <td>...</td>\n",
              "      <td>...</td>\n",
              "      <td>...</td>\n",
              "      <td>...</td>\n",
              "      <td>...</td>\n",
              "    </tr>\n",
              "    <tr>\n",
              "      <th>1317</th>\n",
              "      <td>1317</td>\n",
              "      <td>[по, закону, ,, корабли, имеют, право, проходи...</td>\n",
              "      <td>0.0</td>\n",
              "      <td>[302187, 131851, 0, 180180, 152445, 329306, 35...</td>\n",
              "      <td>420</td>\n",
              "    </tr>\n",
              "    <tr>\n",
              "      <th>6668</th>\n",
              "      <td>6668</td>\n",
              "      <td>[в, любом, тоталитарном, государстве, ,, основ...</td>\n",
              "      <td>0.0</td>\n",
              "      <td>[51199, 202150, 438428, 94789, 0, 273177, 4979...</td>\n",
              "      <td>444</td>\n",
              "    </tr>\n",
              "    <tr>\n",
              "      <th>9524</th>\n",
              "      <td>9524</td>\n",
              "      <td>[доказательства, теории, относительности, можн...</td>\n",
              "      <td>0.0</td>\n",
              "      <td>[112774, 432985, 278825, 218576, 51199, 487020...</td>\n",
              "      <td>442</td>\n",
              "    </tr>\n",
              "    <tr>\n",
              "      <th>10182</th>\n",
              "      <td>10182</td>\n",
              "      <td>[вопросы, :, увидел, пару, фоток, ножей, аркос...</td>\n",
              "      <td>0.0</td>\n",
              "      <td>[68687, 0, 446776, 287872, 466028, 250740, 255...</td>\n",
              "      <td>479</td>\n",
              "    </tr>\n",
              "    <tr>\n",
              "      <th>11093</th>\n",
              "      <td>11093</td>\n",
              "      <td>[ну, тут, такое, ., обрати, внимание, на, форм...</td>\n",
              "      <td>1.0</td>\n",
              "      <td>[251965, 443855, 428965, 0, 258348, 64037, 225...</td>\n",
              "      <td>519</td>\n",
              "    </tr>\n",
              "  </tbody>\n",
              "</table>\n",
              "<p>11509 rows × 5 columns</p>\n",
              "</div>"
            ],
            "text/plain": [
              "          id  ... indexed_text_len\n",
              "5703    5703  ...                2\n",
              "15        15  ...                5\n",
              "4603    4603  ...                6\n",
              "7914    7914  ...                5\n",
              "2713    2713  ...                4\n",
              "...      ...  ...              ...\n",
              "1317    1317  ...              420\n",
              "6668    6668  ...              444\n",
              "9524    9524  ...              442\n",
              "10182  10182  ...              479\n",
              "11093  11093  ...              519\n",
              "\n",
              "[11509 rows x 5 columns]"
            ]
          },
          "metadata": {
            "tags": []
          },
          "execution_count": 31
        }
      ]
    },
    {
      "cell_type": "code",
      "metadata": {
        "id": "Zvp0q3_bUZfS"
      },
      "source": [
        "X = train_data['indexed_text'].to_list()"
      ],
      "execution_count": 32,
      "outputs": []
    },
    {
      "cell_type": "code",
      "metadata": {
        "id": "kjRuzdMkXIY_"
      },
      "source": [
        "y = train_data[\"toxic\"].to_list()"
      ],
      "execution_count": 33,
      "outputs": []
    },
    {
      "cell_type": "code",
      "metadata": {
        "id": "KRgbGVPN2teU"
      },
      "source": [
        "X_train, X_test, y_train, y_test = sklearn.model_selection.train_test_split(X, y, test_size=0.02, random_state=42)"
      ],
      "execution_count": 34,
      "outputs": []
    },
    {
      "cell_type": "code",
      "metadata": {
        "id": "kEvvd1q7VLnk"
      },
      "source": [
        "X = []"
      ],
      "execution_count": 35,
      "outputs": []
    },
    {
      "cell_type": "code",
      "metadata": {
        "id": "gcez_3OcO_yK"
      },
      "source": [
        "device = torch.device(\"cuda:0\" if torch.cuda.is_available else \"cpu\")"
      ],
      "execution_count": 36,
      "outputs": []
    },
    {
      "cell_type": "code",
      "metadata": {
        "id": "gu6DubrjMHjR"
      },
      "source": [
        "class TextClassifierNN(torch.nn.Module):\n",
        "\n",
        "    def __init__(self, embedding_dim, gru_hidden_size, fc_hidden_size, output_size, navec):\n",
        "        super(TextClassifierNN, self).__init__()\n",
        "\n",
        "        self.relu = torch.nn.ReLU()\n",
        "\n",
        "        self.softmax = torch.nn.Softmax()\n",
        "\n",
        "        self.dropout = torch.nn.Dropout(0.15)\n",
        "\n",
        "        self.embedding = NavecEmbedding(navec) #torch.nn.Embedding(input_size, embedding_dim)\n",
        "\n",
        "        self.conv1 = torch.nn.Conv1d(300, 512, kernel_size=5,padding=2)\n",
        "        self.conv2 = torch.nn.Conv1d(512, 1024, kernel_size=3,padding=1)\n",
        "        self.conv3 = torch.nn.Conv1d(1024, 2048, kernel_size=5,padding=2)\n",
        "\n",
        "        self.gru = torch.nn.GRU(2048, gru_hidden_size, batch_first = True)\n",
        "\n",
        "        self.fc1 = torch.nn.Linear(gru_hidden_size, fc_hidden_size)\n",
        "\n",
        "        self.fc2 = torch.nn.Linear(fc_hidden_size, output_size)\n",
        "\n",
        "    def forward(self, x):\n",
        "        x = self.embedding(x)\n",
        "\n",
        "        x = x.permute((0,2,1))\n",
        "\n",
        "        x = self.conv1(x)\n",
        "\n",
        "        x = self.relu(x)\n",
        "\n",
        "        x = self.conv2(x)\n",
        "\n",
        "        x = self.relu(x)\n",
        "\n",
        "        x = self.conv3(x)\n",
        "\n",
        "        x = self.relu(x)\n",
        "\n",
        "        x = self.dropout(x)\n",
        "\n",
        "        x = x.permute((0,2,1))\n",
        "\n",
        "        x = self.gru(x)[0].mean(dim=1) # (batch_size, L, hidden_size)\n",
        "\n",
        "        x = self.fc1(x)\n",
        "\n",
        "        x = self.relu(x)\n",
        "\n",
        "        x = self.fc2(x)\n",
        "        \n",
        "        return x\n",
        "\n",
        "    def predict(self,x):\n",
        "        return self.softmax(self.forward(x))\n"
      ],
      "execution_count": 37,
      "outputs": []
    },
    {
      "cell_type": "code",
      "metadata": {
        "id": "kQJ_dEotP8hJ",
        "colab": {
          "base_uri": "https://localhost:8080/"
        },
        "outputId": "c68a7521-8c7e-40d2-dc94-cfa436398746"
      },
      "source": [
        "Net = TextClassifierNN(300, 512, 256, 2, model)\n",
        "Net.to(device)\n",
        "\n",
        "loss = torch.nn.CrossEntropyLoss()"
      ],
      "execution_count": 38,
      "outputs": [
        {
          "output_type": "stream",
          "text": [
            "/usr/local/lib/python3.7/dist-packages/slovnet/model/emb.py:46: UserWarning: The given NumPy array is not writeable, and PyTorch does not support non-writeable tensors. This means you can write to the underlying (supposedly non-writeable) NumPy array using the tensor. You may want to copy the array to protect its data or make it writeable before converting it to a tensor. This type of warning will be suppressed for the rest of this program. (Triggered internally at  /pytorch/torch/csrc/utils/tensor_numpy.cpp:180.)\n",
            "  torch.from_numpy(navec.pq.indexes),\n"
          ],
          "name": "stderr"
        }
      ]
    },
    {
      "cell_type": "code",
      "metadata": {
        "id": "MwPpTcmwQVIw"
      },
      "source": [
        "optimizer = torch.optim.Adam(Net.parameters(), lr=1.0e-3)"
      ],
      "execution_count": 39,
      "outputs": []
    },
    {
      "cell_type": "code",
      "metadata": {
        "id": "3dhNc-4WPNfp"
      },
      "source": [
        "test_loss_history = []\n",
        "test_accuracy_history = []\n",
        "test_precision_history = []"
      ],
      "execution_count": 40,
      "outputs": []
    },
    {
      "cell_type": "code",
      "metadata": {
        "id": "QLFD3wGNPrcC"
      },
      "source": [
        "X_train = torch.LongTensor(X_train)\n",
        "y_train = torch.LongTensor(y_train)\n",
        "\n",
        "X_test = torch.LongTensor(X_test)\n",
        "y_test = torch.LongTensor(y_test)"
      ],
      "execution_count": 41,
      "outputs": []
    },
    {
      "cell_type": "code",
      "metadata": {
        "id": "MPFIYvsgFjvk"
      },
      "source": [
        "X_test = X_test#.to(device)\n",
        "y_test = y_test#.to(device)"
      ],
      "execution_count": 42,
      "outputs": []
    },
    {
      "cell_type": "code",
      "metadata": {
        "id": "XgkXLVWu1svH",
        "colab": {
          "base_uri": "https://localhost:8080/"
        },
        "outputId": "769d9e14-e9d5-4cd1-f233-2808810d1dbf"
      },
      "source": [
        "Net.train()\n",
        "\n",
        "batch_size = 100\n",
        "\n",
        "for epoch in range(5):\n",
        "    order = np.random.permutation(len(X_train))\n",
        "    for start_index in range(0, len(X_train), batch_size):\n",
        "        optimizer.zero_grad()\n",
        "\n",
        "        with torch.no_grad():\n",
        "            batch_indexes = order[start_index:start_index+batch_size]\n",
        "            X_batch = X_train[batch_indexes]#.to(device)\n",
        "            y_batch = y_train[batch_indexes]#.to(device)\n",
        "            \n",
        "            X_batch = X_batch.to(device)\n",
        "            y_batch = y_batch.to(device)\n",
        "\n",
        "        preds = Net.forward(X_batch) \n",
        "        loss_value = loss(preds, y_batch)\n",
        "        loss_value.backward()\n",
        "        \n",
        "        optimizer.step()\n",
        "\n",
        "    with torch.no_grad():\n",
        "      test_preds = Net.forward(X_test.cuda()).cpu()\n",
        "\n",
        "      loss_test_value = loss(test_preds, y_test).detach().data.cpu()\n",
        "\n",
        "      test_loss_history.append(loss_test_value)\n",
        "      \n",
        "      accuracy = (test_preds.argmax(dim=1) == y_test).detach().float().mean().data.cpu()\n",
        "      test_accuracy_history.append(accuracy)\n",
        "      \n",
        "      precision = sklearn.metrics.precision_score(test_preds.argmax(dim=1).detach().cpu().numpy(), y_test.detach().cpu().numpy())\n",
        "      test_precision_history.append(precision)\n",
        "\n",
        "      print(f\"epoch {epoch+1}; test loss {loss_test_value}; test accuracy {accuracy}; test precision {precision}\")\n",
        "torch.save(Net.state_dict(),\"/content/drive/MyDrive/Colab Notebooks/TextClassifierNN.nn\")"
      ],
      "execution_count": 43,
      "outputs": [
        {
          "output_type": "stream",
          "text": [
            "epoch 1; test loss 0.3206386864185333; test accuracy 0.8744588494300842; test precision 0.7125\n",
            "epoch 2; test loss 0.3056889772415161; test accuracy 0.887445867061615; test precision 0.7625\n",
            "epoch 3; test loss 0.25756824016571045; test accuracy 0.9090909361839294; test precision 0.85\n",
            "epoch 4; test loss 0.29332926869392395; test accuracy 0.9047619104385376; test precision 0.85\n",
            "epoch 5; test loss 0.2798641622066498; test accuracy 0.9090909361839294; test precision 0.9\n"
          ],
          "name": "stdout"
        }
      ]
    },
    {
      "cell_type": "code",
      "metadata": {
        "colab": {
          "base_uri": "https://localhost:8080/",
          "height": 282
        },
        "id": "gBH99gRE7uGY",
        "outputId": "6c6ead50-64b3-491a-b966-ff4b9931001c"
      },
      "source": [
        "plt.plot(test_loss_history, label='loss')"
      ],
      "execution_count": 44,
      "outputs": [
        {
          "output_type": "execute_result",
          "data": {
            "text/plain": [
              "[<matplotlib.lines.Line2D at 0x7f0f85adaad0>]"
            ]
          },
          "metadata": {
            "tags": []
          },
          "execution_count": 44
        },
        {
          "output_type": "display_data",
          "data": {
            "image/png": "[encoded data removed]",
            "text/plain": [
              "<Figure size 432x288 with 1 Axes>"
            ]
          },
          "metadata": {
            "tags": [],
            "needs_background": "light"
          }
        }
      ]
    },
    {
      "cell_type": "code",
      "metadata": {
        "id": "DTxwI6Dv_RR3",
        "colab": {
          "base_uri": "https://localhost:8080/",
          "height": 212
        },
        "outputId": "c8c904c2-6e53-4bed-cecb-81f7d157520d"
      },
      "source": [
        "plt.plot(test_accuracy_history, label='accuracy')\n",
        "plt.plot(test_precision_history, label='precision')\n",
        "plt.legend()\n",
        "plt.show()  "
      ],
      "execution_count": 1,
      "outputs": [
        {
          "output_type": "error",
          "ename": "NameError",
          "evalue": "ignored",
          "traceback": [
            "\u001b[0;31m---------------------------------------------------------------------------\u001b[0m",
            "\u001b[0;31mNameError\u001b[0m                                 Traceback (most recent call last)",
            "\u001b[0;32m<ipython-input-1-b36c0915d809>\u001b[0m in \u001b[0;36m<module>\u001b[0;34m()\u001b[0m\n\u001b[0;32m----> 1\u001b[0;31m \u001b[0mplt\u001b[0m\u001b[0;34m.\u001b[0m\u001b[0mplot\u001b[0m\u001b[0;34m(\u001b[0m\u001b[0mtest_accuracy_history\u001b[0m\u001b[0;34m,\u001b[0m \u001b[0mlabel\u001b[0m\u001b[0;34m=\u001b[0m\u001b[0;34m'accuracy'\u001b[0m\u001b[0;34m)\u001b[0m\u001b[0;34m\u001b[0m\u001b[0;34m\u001b[0m\u001b[0m\n\u001b[0m\u001b[1;32m      2\u001b[0m \u001b[0mplt\u001b[0m\u001b[0;34m.\u001b[0m\u001b[0mplot\u001b[0m\u001b[0;34m(\u001b[0m\u001b[0mtest_precision_history\u001b[0m\u001b[0;34m,\u001b[0m \u001b[0mlabel\u001b[0m\u001b[0;34m=\u001b[0m\u001b[0;34m'precision'\u001b[0m\u001b[0;34m)\u001b[0m\u001b[0;34m\u001b[0m\u001b[0;34m\u001b[0m\u001b[0m\n\u001b[1;32m      3\u001b[0m \u001b[0mplt\u001b[0m\u001b[0;34m.\u001b[0m\u001b[0mlegend\u001b[0m\u001b[0;34m(\u001b[0m\u001b[0;34m)\u001b[0m\u001b[0;34m\u001b[0m\u001b[0;34m\u001b[0m\u001b[0m\n\u001b[1;32m      4\u001b[0m \u001b[0mplt\u001b[0m\u001b[0;34m.\u001b[0m\u001b[0mshow\u001b[0m\u001b[0;34m(\u001b[0m\u001b[0;34m)\u001b[0m\u001b[0;34m\u001b[0m\u001b[0;34m\u001b[0m\u001b[0m\n",
            "\u001b[0;31mNameError\u001b[0m: name 'plt' is not defined"
          ]
        }
      ]
    },
    {
      "cell_type": "code",
      "metadata": {
        "id": "7nDgYGUFB5iW"
      },
      "source": [
        "with torch.no_grad():\n",
        "    y_pred = Net.forward(X_test)"
      ],
      "execution_count": 46,
      "outputs": []
    },
    {
      "cell_type": "code",
      "metadata": {
        "id": "t0tl2A03TVZt",
        "colab": {
          "base_uri": "https://localhost:8080/"
        },
        "outputId": "e5d77406-38a7-4c80-9a37-b284354740eb"
      },
      "source": [
        "precision = sklearn.metrics.precision_score(y_pred.argmax(dim=1).detach().cpu().numpy(), y_test.detach().cpu().numpy())\n",
        "precision"
      ],
      "execution_count": 47,
      "outputs": [
        {
          "output_type": "execute_result",
          "data": {
            "text/plain": [
              "0.9"
            ]
          },
          "metadata": {
            "tags": []
          },
          "execution_count": 47
        }
      ]
    },
    {
      "cell_type": "code",
      "metadata": {
        "id": "r7bJNOq6W8SA",
        "colab": {
          "base_uri": "https://localhost:8080/"
        },
        "outputId": "7c0adb33-eec6-4283-a14c-51c31eed66de"
      },
      "source": [
        "recall = sklearn.metrics.recall_score(y_pred.argmax(dim=1).detach().cpu().numpy(), y_test.detach().cpu().numpy())\n",
        "recall"
      ],
      "execution_count": 48,
      "outputs": [
        {
          "output_type": "execute_result",
          "data": {
            "text/plain": [
              "0.8571428571428571"
            ]
          },
          "metadata": {
            "tags": []
          },
          "execution_count": 48
        }
      ]
    },
    {
      "cell_type": "code",
      "metadata": {
        "id": "xGtyCpuesCeo"
      },
      "source": [
        "!nvidia-smi"
      ],
      "execution_count": null,
      "outputs": []
    },
    {
      "cell_type": "code",
      "metadata": {
        "id": "4lX-ICQow5kf"
      },
      "source": [
        ""
      ],
      "execution_count": null,
      "outputs": []
    }
  ]
}